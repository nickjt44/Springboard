{
 "cells": [
  {
   "cell_type": "markdown",
   "metadata": {
    "colab_type": "text",
    "id": "Tia3MP1SJpgj"
   },
   "source": [
    "# Springboard Data Science Career Track Unit 4 Challenge - Tier 3 Complete\n",
    "\n",
    "## Objectives\n",
    "Hey! Great job getting through those challenging DataCamp courses. You're learning a lot in a short span of time. \n",
    "\n",
    "In this notebook, you're going to apply the skills you've been learning, bridging the gap between the controlled environment of DataCamp and the *slightly* messier work that data scientists do with actual datasets!\n",
    "\n",
    "Here’s the mystery we’re going to solve: ***which boroughs of London have seen the greatest increase in housing prices, on average, over the last two decades?***\n",
    "\n",
    "\n",
    "A borough is just a fancy word for district. You may be familiar with the five boroughs of New York… well, there are 32 boroughs within Greater London [(here's some info for the curious)](https://en.wikipedia.org/wiki/London_boroughs). Some of them are more desirable areas to live in, and the data will reflect that with a greater rise in housing prices.\n",
    "\n",
    "***This is the Tier 3 notebook, which means it's not filled in at all: we'll just give you the skeleton of a project, the brief and the data. It's up to you to play around with it and see what you can find out! Good luck! If you struggle, feel free to look at easier tiers for help; but try to dip in and out of them, as the more independent work you do, the better it is for your learning!***\n",
    "\n",
    "This challenge will make use of only what you learned in the following DataCamp courses: \n",
    "- Prework courses (Introduction to Python for Data Science, Intermediate Python for Data Science)\n",
    "- Data Types for Data Science\n",
    "- Python Data Science Toolbox (Part One) \n",
    "- pandas Foundations\n",
    "- Manipulating DataFrames with pandas\n",
    "- Merging DataFrames with pandas\n",
    "\n",
    "Of the tools, techniques and concepts in the above DataCamp courses, this challenge should require the application of the following: \n",
    "- **pandas**\n",
    "    - **data ingestion and inspection** (pandas Foundations, Module One) \n",
    "    - **exploratory data analysis** (pandas Foundations, Module Two)\n",
    "    - **tidying and cleaning** (Manipulating DataFrames with pandas, Module Three) \n",
    "    - **transforming DataFrames** (Manipulating DataFrames with pandas, Module One)\n",
    "    - **subsetting DataFrames with lists** (Manipulating DataFrames with pandas, Module One) \n",
    "    - **filtering DataFrames** (Manipulating DataFrames with pandas, Module One) \n",
    "    - **grouping data** (Manipulating DataFrames with pandas, Module Four) \n",
    "    - **melting data** (Manipulating DataFrames with pandas, Module Three) \n",
    "    - **advanced indexing** (Manipulating DataFrames with pandas, Module Four) \n",
    "- **matplotlib** (Intermediate Python for Data Science, Module One)\n",
    "- **fundamental data types** (Data Types for Data Science, Module One) \n",
    "- **dictionaries** (Intermediate Python for Data Science, Module Two)\n",
    "- **handling dates and times** (Data Types for Data Science, Module Four)\n",
    "- **function definition** (Python Data Science Toolbox - Part One, Module One)\n",
    "- **default arguments, variable length, and scope** (Python Data Science Toolbox - Part One, Module Two) \n",
    "- **lambda functions and error handling** (Python Data Science Toolbox - Part One, Module Four) "
   ]
  },
  {
   "cell_type": "markdown",
   "metadata": {
    "colab_type": "text",
    "id": "Ipgd2nV8Jpgl"
   },
   "source": [
    "## The Data Science Pipeline\n",
    "\n",
    "This is Tier Three, so we'll get you started. But after that, it's all in your hands! When you feel done with your investigations, look back over what you've accomplished, and prepare a quick presentation of your findings for the next mentor meeting. \n",
    "\n",
    "Data Science is magical. In this case study, you'll get to apply some complex machine learning algorithms. But as  [David Spiegelhalter](https://www.youtube.com/watch?v=oUs1uvsz0Ok) reminds us, there is no substitute for simply **taking a really, really good look at the data.** Sometimes, this is all we need to answer our question.\n",
    "\n",
    "Data Science projects generally adhere to the four stages of Data Science Pipeline:\n",
    "1. Sourcing and loading \n",
    "2. Cleaning, transforming, and visualizing \n",
    "3. Modeling \n",
    "4. Evaluating and concluding \n"
   ]
  },
  {
   "cell_type": "markdown",
   "metadata": {
    "colab_type": "text",
    "id": "zswDqbefJpgm"
   },
   "source": [
    "### 1. Sourcing and Loading \n",
    "\n",
    "Any Data Science project kicks off by importing  ***pandas***. The documentation of this wonderful library can be found [here](https://pandas.pydata.org/). As you've seen, pandas is conveniently connected to the [Numpy](http://www.numpy.org/) and [Matplotlib](https://matplotlib.org/) libraries. \n",
    "\n",
    "***Hint:*** This part of the data science pipeline will test those skills you acquired in the pandas Foundations course, Module One. "
   ]
  },
  {
   "cell_type": "markdown",
   "metadata": {
    "colab_type": "text",
    "id": "aEau5nEvJpgm"
   },
   "source": [
    "#### 1.1. Importing Libraries"
   ]
  },
  {
   "cell_type": "code",
   "execution_count": 65,
   "metadata": {
    "colab": {},
    "colab_type": "code",
    "collapsed": true,
    "id": "7Bt_Q_oPJpgn"
   },
   "outputs": [],
   "source": [
    "# Let's import the pandas, numpy libraries as pd, and np respectively. \n",
    "import pandas as pd\n",
    "import numpy as np\n",
    "\n",
    "# Load the pyplot collection of functions from matplotlib, as plt \n",
    "import matplotlib.pyplot as plt"
   ]
  },
  {
   "cell_type": "markdown",
   "metadata": {
    "colab_type": "text",
    "id": "koUrawxsJpgq"
   },
   "source": [
    "#### 1.2.  Loading the data\n",
    "Your data comes from the [London Datastore](https://data.london.gov.uk/): a free, open-source data-sharing portal for London-oriented datasets. "
   ]
  },
  {
   "cell_type": "code",
   "execution_count": 66,
   "metadata": {
    "colab": {},
    "colab_type": "code",
    "collapsed": true,
    "id": "AiLiD4v3Jpgr"
   },
   "outputs": [],
   "source": [
    "# First, make a variable called url_LondonHousePrices, and assign it the following link, enclosed in quotation-marks as a string:\n",
    "# https://data.london.gov.uk/download/uk-house-price-index/70ac0766-8902-4eb5-aab5-01951aaed773/UK%20House%20price%20index.xls\n",
    "\n",
    "url_LondonHousePrices = \"https://data.london.gov.uk/download/uk-house-price-index/70ac0766-8902-4eb5-aab5-01951aaed773/UK%20House%20price%20index.xls\"\n",
    "\n",
    "# The dataset we're interested in contains the Average prices of the houses, and is actually on a particular sheet of the Excel file. \n",
    "# As a result, we need to specify the sheet name in the read_excel() method.\n",
    "# Put this data into a variable called properties.  \n",
    "# sheet_name attribute wasn't working, apparently due to the version of Python being used, so changed to sheetname.\n",
    "properties = pd.read_excel(url_LondonHousePrices, sheetname='Average price', index_col= None)"
   ]
  },
  {
   "cell_type": "markdown",
   "metadata": {
    "colab_type": "text",
    "id": "POukEJXgJpgu"
   },
   "source": [
    "### 2. Cleaning, transforming, and visualizing\n",
    "This second stage is arguably the most important part of any Data Science project. The first thing to do is take a proper look at the data. Cleaning forms the majority of this stage, and can be done both before or after Transformation.\n",
    "\n",
    "The end goal of data cleaning is to have tidy data. When data is tidy: \n",
    "\n",
    "1. Each variable has a column.\n",
    "2. Each observation forms a row.\n",
    "\n",
    "Keep the end goal in mind as you move through this process, every step will take you closer. \n",
    "\n",
    "\n",
    "\n",
    "***Hint:*** This part of the data science pipeline should test those skills you acquired in: \n",
    "- Intermediate Python for data science, all modules.\n",
    "- pandas Foundations, all modules. \n",
    "- Manipulating DataFrames with pandas, all modules.\n",
    "- Data Types for Data Science, Module Four.\n",
    "- Python Data Science Toolbox - Part One, all modules"
   ]
  },
  {
   "cell_type": "markdown",
   "metadata": {
    "colab_type": "text",
    "id": "Te0Q548tnzZa"
   },
   "source": [
    "**2.1. Exploring your data** \n",
    "\n",
    "Think about your pandas functions for checking out a dataframe. "
   ]
  },
  {
   "cell_type": "code",
   "execution_count": 67,
   "metadata": {
    "colab": {},
    "colab_type": "code",
    "id": "Rxirxw_qoAJa"
   },
   "outputs": [
    {
     "name": "stdout",
     "output_type": "stream",
     "text": [
      "           City of London Barking & Dagenham     Barnet     Bexley      Brent  \\\n",
      "NaT             E09000001          E09000002  E09000003  E09000004  E09000005   \n",
      "1995-01-01          91449            50460.2    93284.5    64958.1    71306.6   \n",
      "1995-02-01        82202.8            51085.8    93190.2    64787.9    72022.3   \n",
      "1995-03-01        79120.7              51269    92247.5    64367.5    72015.8   \n",
      "1995-04-01        77101.2            53133.5    90762.9    64277.7    72965.6   \n",
      "\n",
      "              Bromley     Camden    Croydon     Ealing    Enfield    ...      \\\n",
      "NaT         E09000006  E09000007  E09000008  E09000009  E09000010    ...       \n",
      "1995-01-01    81671.5     120933    69158.2    79885.9    72514.7    ...       \n",
      "1995-02-01    81657.6     119509    68951.1    80897.1    73155.2    ...       \n",
      "1995-03-01    81449.3     120282    68712.4    81379.9    72190.4    ...       \n",
      "1995-04-01    81124.4     120098      68610    82188.9    71442.9    ...       \n",
      "\n",
      "           NORTH WEST YORKS & THE HUMBER EAST MIDLANDS WEST MIDLANDS  \\\n",
      "NaT         E12000002          E12000003     E12000004     E12000005   \n",
      "1995-01-01    43958.5            44803.4       45544.5       48527.5   \n",
      "1995-02-01    43925.4            44528.8       46051.6       49341.3   \n",
      "1995-03-01    44434.9            45200.5       45383.8       49442.2   \n",
      "1995-04-01    44267.8            45614.3       46124.2       49455.9   \n",
      "\n",
      "           EAST OF ENGLAND     LONDON SOUTH EAST SOUTH WEST Unnamed: 46  \\\n",
      "NaT              E12000006  E12000007  E12000008  E12000009         NaN   \n",
      "1995-01-01         56701.6    74435.8    64018.9    54705.2         NaN   \n",
      "1995-02-01         56593.6    72777.9      63715    54356.1         NaN   \n",
      "1995-03-01         56171.2    73896.8    64113.6    53583.1         NaN   \n",
      "1995-04-01         56567.9    74455.3    64623.2      54786         NaN   \n",
      "\n",
      "              England  \n",
      "NaT         E92000001  \n",
      "1995-01-01    53202.8  \n",
      "1995-02-01    53096.2  \n",
      "1995-03-01    53201.3  \n",
      "1995-04-01    53590.9  \n",
      "\n",
      "[5 rows x 48 columns]\n"
     ]
    }
   ],
   "source": [
    "print(properties.head())"
   ]
  },
  {
   "cell_type": "markdown",
   "metadata": {
    "colab_type": "text",
    "id": "tE9Sqt9-oAta"
   },
   "source": [
    "**2.2. Cleaning the data**\n",
    "\n",
    "You might find you need to transpose your dataframe, check out what its row indexes are, and reset the index. You  also might find you need to assign the values of the first row to your column headings  . (Hint: recall the .columns feature of DataFrames, as well as the iloc[] method).\n",
    "\n",
    "Don't be afraid to use StackOverflow for help  with this."
   ]
  },
  {
   "cell_type": "code",
   "execution_count": 68,
   "metadata": {
    "colab": {},
    "colab_type": "code",
    "id": "cdAu1A3YoH_r"
   },
   "outputs": [
    {
     "name": "stdout",
     "output_type": "stream",
     "text": [
      "                          NaT 1995-01-01 1995-02-01 1995-03-01 1995-04-01  \\\n",
      "City of London      E09000001      91449    82202.8    79120.7    77101.2   \n",
      "Barking & Dagenham  E09000002    50460.2    51085.8      51269    53133.5   \n",
      "Barnet              E09000003    93284.5    93190.2    92247.5    90762.9   \n",
      "Bexley              E09000004    64958.1    64787.9    64367.5    64277.7   \n",
      "Brent               E09000005    71306.6    72022.3    72015.8    72965.6   \n",
      "\n",
      "                   1995-05-01 1995-06-01 1995-07-01 1995-08-01 1995-09-01  \\\n",
      "City of London        84409.1    94900.5     110128     112329     104473   \n",
      "Barking & Dagenham    53042.2    53700.3    52113.1    52232.2    51471.6   \n",
      "Barnet                  90258    90107.2    91441.2    92361.3    93273.1   \n",
      "Bexley                63997.1    64252.3    63722.7    64432.6    64509.5   \n",
      "Brent                   73704    74310.5      74127      73547    73789.5   \n",
      "\n",
      "                      ...     2019-08-01 2019-09-01 2019-10-01 2019-11-01  \\\n",
      "City of London        ...         813770     810455     826227     776894   \n",
      "Barking & Dagenham    ...         299421     304778     304579     306390   \n",
      "Barnet                ...         528577     526670     525678     522639   \n",
      "Bexley                ...         337523     333340     332920     333657   \n",
      "Brent                 ...         488784     501533     494770     432188   \n",
      "\n",
      "                   2019-12-01 2020-01-01 2020-02-01 2020-03-01 2020-04-01  \\\n",
      "City of London         737275     747611     777640     844989     867841   \n",
      "Barking & Dagenham     301283     303653     304265     304099     283139   \n",
      "Barnet                 519306     518542     519121     527747     526553   \n",
      "Bexley                 336302     334765     337760     339215     346840   \n",
      "Brent                  427126     423161     467145     461398     494455   \n",
      "\n",
      "                   2020-05-01  \n",
      "City of London         899831  \n",
      "Barking & Dagenham     295744  \n",
      "Barnet                 532503  \n",
      "Bexley                 339408  \n",
      "Brent                  466574  \n",
      "\n",
      "[5 rows x 306 columns]\n",
      "                index        NaN 1995-01-01 00:00:00 1995-02-01 00:00:00  \\\n",
      "0      City of London  E09000001               91449             82202.8   \n",
      "1  Barking & Dagenham  E09000002             50460.2             51085.8   \n",
      "2              Barnet  E09000003             93284.5             93190.2   \n",
      "3              Bexley  E09000004             64958.1             64787.9   \n",
      "4               Brent  E09000005             71306.6             72022.3   \n",
      "\n",
      "  1995-03-01 00:00:00 1995-04-01 00:00:00 1995-05-01 00:00:00  \\\n",
      "0             79120.7             77101.2             84409.1   \n",
      "1               51269             53133.5             53042.2   \n",
      "2             92247.5             90762.9               90258   \n",
      "3             64367.5             64277.7             63997.1   \n",
      "4             72015.8             72965.6               73704   \n",
      "\n",
      "  1995-06-01 00:00:00 1995-07-01 00:00:00 1995-08-01 00:00:00  \\\n",
      "0             94900.5              110128              112329   \n",
      "1             53700.3             52113.1             52232.2   \n",
      "2             90107.2             91441.2             92361.3   \n",
      "3             64252.3             63722.7             64432.6   \n",
      "4             74310.5               74127               73547   \n",
      "\n",
      "          ...         2019-08-01 00:00:00 2019-09-01 00:00:00  \\\n",
      "0         ...                      813770              810455   \n",
      "1         ...                      299421              304778   \n",
      "2         ...                      528577              526670   \n",
      "3         ...                      337523              333340   \n",
      "4         ...                      488784              501533   \n",
      "\n",
      "  2019-10-01 00:00:00 2019-11-01 00:00:00 2019-12-01 00:00:00  \\\n",
      "0              826227              776894              737275   \n",
      "1              304579              306390              301283   \n",
      "2              525678              522639              519306   \n",
      "3              332920              333657              336302   \n",
      "4              494770              432188              427126   \n",
      "\n",
      "  2020-01-01 00:00:00 2020-02-01 00:00:00 2020-03-01 00:00:00  \\\n",
      "0              747611              777640              844989   \n",
      "1              303653              304265              304099   \n",
      "2              518542              519121              527747   \n",
      "3              334765              337760              339215   \n",
      "4              423161              467145              461398   \n",
      "\n",
      "  2020-04-01 00:00:00 2020-05-01 00:00:00  \n",
      "0              867841              899831  \n",
      "1              283139              295744  \n",
      "2              526553              532503  \n",
      "3              346840              339408  \n",
      "4              494455              466574  \n",
      "\n",
      "[5 rows x 307 columns]\n"
     ]
    }
   ],
   "source": [
    "properties = properties.transpose()\n",
    "print(properties.head())\n",
    "properties_reset = properties.reset_index()\n",
    "print(properties_reset.head())"
   ]
  },
  {
   "cell_type": "markdown",
   "metadata": {
    "colab_type": "text",
    "id": "o1uLbJAsoIjK"
   },
   "source": [
    "**2.3. Cleaning the data (part 2)**\n",
    "\n",
    "You might we have to **rename** a couple columns. How do you do this? The clue's pretty bold..."
   ]
  },
  {
   "cell_type": "code",
   "execution_count": 69,
   "metadata": {
    "colab": {},
    "colab_type": "code",
    "id": "GKkmn1AnoVZS"
   },
   "outputs": [
    {
     "name": "stdout",
     "output_type": "stream",
     "text": [
      "Index([   'London Borough',                'ID', 1995-01-01 00:00:00,\n",
      "       1995-02-01 00:00:00, 1995-03-01 00:00:00, 1995-04-01 00:00:00,\n",
      "       1995-05-01 00:00:00, 1995-06-01 00:00:00, 1995-07-01 00:00:00,\n",
      "       1995-08-01 00:00:00,\n",
      "       ...\n",
      "       2019-08-01 00:00:00, 2019-09-01 00:00:00, 2019-10-01 00:00:00,\n",
      "       2019-11-01 00:00:00, 2019-12-01 00:00:00, 2020-01-01 00:00:00,\n",
      "       2020-02-01 00:00:00, 2020-03-01 00:00:00, 2020-04-01 00:00:00,\n",
      "       2020-05-01 00:00:00],\n",
      "      dtype='object', length=307)\n",
      "       London Borough         ID 1995-01-01 00:00:00 1995-02-01 00:00:00  \\\n",
      "0      City of London  E09000001               91449             82202.8   \n",
      "1  Barking & Dagenham  E09000002             50460.2             51085.8   \n",
      "2              Barnet  E09000003             93284.5             93190.2   \n",
      "3              Bexley  E09000004             64958.1             64787.9   \n",
      "4               Brent  E09000005             71306.6             72022.3   \n",
      "\n",
      "  1995-03-01 00:00:00 1995-04-01 00:00:00 1995-05-01 00:00:00  \\\n",
      "0             79120.7             77101.2             84409.1   \n",
      "1               51269             53133.5             53042.2   \n",
      "2             92247.5             90762.9               90258   \n",
      "3             64367.5             64277.7             63997.1   \n",
      "4             72015.8             72965.6               73704   \n",
      "\n",
      "  1995-06-01 00:00:00 1995-07-01 00:00:00 1995-08-01 00:00:00  \\\n",
      "0             94900.5              110128              112329   \n",
      "1             53700.3             52113.1             52232.2   \n",
      "2             90107.2             91441.2             92361.3   \n",
      "3             64252.3             63722.7             64432.6   \n",
      "4             74310.5               74127               73547   \n",
      "\n",
      "          ...         2019-08-01 00:00:00 2019-09-01 00:00:00  \\\n",
      "0         ...                      813770              810455   \n",
      "1         ...                      299421              304778   \n",
      "2         ...                      528577              526670   \n",
      "3         ...                      337523              333340   \n",
      "4         ...                      488784              501533   \n",
      "\n",
      "  2019-10-01 00:00:00 2019-11-01 00:00:00 2019-12-01 00:00:00  \\\n",
      "0              826227              776894              737275   \n",
      "1              304579              306390              301283   \n",
      "2              525678              522639              519306   \n",
      "3              332920              333657              336302   \n",
      "4              494770              432188              427126   \n",
      "\n",
      "  2020-01-01 00:00:00 2020-02-01 00:00:00 2020-03-01 00:00:00  \\\n",
      "0              747611              777640              844989   \n",
      "1              303653              304265              304099   \n",
      "2              518542              519121              527747   \n",
      "3              334765              337760              339215   \n",
      "4              423161              467145              461398   \n",
      "\n",
      "  2020-04-01 00:00:00 2020-05-01 00:00:00  \n",
      "0              867841              899831  \n",
      "1              283139              295744  \n",
      "2              526553              532503  \n",
      "3              346840              339408  \n",
      "4              494455              466574  \n",
      "\n",
      "[5 rows x 307 columns]\n"
     ]
    }
   ],
   "source": [
    "properties_reset = properties_reset.rename(columns = {\"index\":\"London Borough\"})\n",
    "column_list = properties_reset.columns\n",
    "column_list = column_list.dropna()\n",
    "column_list = column_list.insert(1,\"ID\")\n",
    "print(column_list)\n",
    "properties_reset.columns = column_list\n",
    "print(properties_reset.head())"
   ]
  },
  {
   "cell_type": "markdown",
   "metadata": {
    "colab_type": "text",
    "id": "jy8BzXHmoWEw"
   },
   "source": [
    "**2.4.Transforming the data**\n",
    "\n",
    "Remember what Wes McKinney said about tidy data? \n",
    "\n",
    "You might need to **melt** your DataFrame here. "
   ]
  },
  {
   "cell_type": "code",
   "execution_count": 70,
   "metadata": {
    "colab": {},
    "colab_type": "code",
    "id": "S2wM0qLuo2Zt"
   },
   "outputs": [
    {
     "name": "stdout",
     "output_type": "stream",
     "text": [
      "       London Borough         ID      Month Average Price\n",
      "0      City of London  E09000001 1995-01-01         91449\n",
      "1  Barking & Dagenham  E09000002 1995-01-01       50460.2\n",
      "2              Barnet  E09000003 1995-01-01       93284.5\n",
      "3              Bexley  E09000004 1995-01-01       64958.1\n",
      "4               Brent  E09000005 1995-01-01       71306.6\n"
     ]
    }
   ],
   "source": [
    "properties_melted = pd.melt(properties_reset,id_vars=properties_reset.columns[:2],value_vars=properties_reset.columns[2:])\n",
    "properties_melted = properties_melted.rename(columns={'variable':'Month','value':'Average Price'})\n",
    "print(properties_melted.head())"
   ]
  },
  {
   "cell_type": "markdown",
   "metadata": {
    "colab_type": "text",
    "id": "7kIsgAo7o3mf"
   },
   "source": [
    "Remember to make sure your column data types are all correct. Average prices, for example, should be floating point numbers... "
   ]
  },
  {
   "cell_type": "code",
   "execution_count": 71,
   "metadata": {
    "colab": {},
    "colab_type": "code",
    "id": "ZcR4IHbcpOaq"
   },
   "outputs": [
    {
     "name": "stdout",
     "output_type": "stream",
     "text": [
      "London Borough            object\n",
      "ID                        object\n",
      "Month             datetime64[ns]\n",
      "Average Price             object\n",
      "dtype: object\n",
      "London Borough            object\n",
      "ID                        object\n",
      "Month             datetime64[ns]\n",
      "Average Price            float64\n",
      "dtype: object\n"
     ]
    }
   ],
   "source": [
    "print(properties_melted.dtypes)\n",
    "properties_melted['London Borough'] = properties_melted['London Borough'].astype(str)\n",
    "properties_melted['ID'] = properties_melted['ID'].astype(str)\n",
    "properties_melted['Average Price'] = properties_melted['Average Price'].astype(float)\n",
    "print(properties_melted.dtypes)"
   ]
  },
  {
   "cell_type": "markdown",
   "metadata": {
    "colab_type": "text",
    "id": "knLUXHLypOtw"
   },
   "source": [
    "**2.5. Cleaning the data (part 3)**\n",
    "\n",
    "Do we have an equal number of observations in the ID, Average Price, Month, and London Borough columns? Remember that there are only 32 London Boroughs. How many entries do you have in that column? \n",
    "\n",
    "Check out the contents of the London Borough column, and if you find null values, get rid of them however you see fit. "
   ]
  },
  {
   "cell_type": "code",
   "execution_count": 72,
   "metadata": {
    "colab": {},
    "colab_type": "code",
    "id": "BnvTW5a3p0fC"
   },
   "outputs": [
    {
     "name": "stdout",
     "output_type": "stream",
     "text": [
      "['City of London' 'Barking & Dagenham' 'Barnet' 'Bexley' 'Brent' 'Bromley'\n",
      " 'Camden' 'Croydon' 'Ealing' 'Enfield' 'Greenwich' 'Hackney'\n",
      " 'Hammersmith & Fulham' 'Haringey' 'Harrow' 'Havering' 'Hillingdon'\n",
      " 'Hounslow' 'Islington' 'Kensington & Chelsea' 'Kingston upon Thames'\n",
      " 'Lambeth' 'Lewisham' 'Merton' 'Newham' 'Redbridge' 'Richmond upon Thames'\n",
      " 'Southwark' 'Sutton' 'Tower Hamlets' 'Waltham Forest' 'Wandsworth'\n",
      " 'Westminster' 'Unnamed: 33' 'Inner London' 'Outer London' 'Unnamed: 36'\n",
      " 'NORTH EAST' 'NORTH WEST' 'YORKS & THE HUMBER' 'EAST MIDLANDS'\n",
      " 'WEST MIDLANDS' 'EAST OF ENGLAND' 'LONDON' 'SOUTH EAST' 'SOUTH WEST'\n",
      " 'Unnamed: 46' 'England']\n",
      "['Barking & Dagenham' 'Barnet' 'Bexley' 'Brent' 'Bromley' 'Camden'\n",
      " 'Croydon' 'Ealing' 'Enfield' 'Greenwich' 'Hackney' 'Hammersmith & Fulham'\n",
      " 'Haringey' 'Harrow' 'Havering' 'Hillingdon' 'Hounslow' 'Islington'\n",
      " 'Kensington & Chelsea' 'Kingston upon Thames' 'Lambeth' 'Lewisham'\n",
      " 'Merton' 'Newham' 'Redbridge' 'Richmond upon Thames' 'Southwark' 'Sutton'\n",
      " 'Tower Hamlets' 'Waltham Forest' 'Wandsworth' 'Westminster']\n",
      "       London Borough         ID      Month  Average Price\n",
      "1  Barking & Dagenham  E09000002 1995-01-01    50460.22660\n",
      "2              Barnet  E09000003 1995-01-01    93284.51832\n",
      "3              Bexley  E09000004 1995-01-01    64958.09036\n",
      "4               Brent  E09000005 1995-01-01    71306.56698\n",
      "5             Bromley  E09000006 1995-01-01    81671.47692\n"
     ]
    }
   ],
   "source": [
    "print(properties_melted['London Borough'].unique())\n",
    "properties_new = properties_melted.loc[properties_melted['London Borough'].isin(['Barking & Dagenham', 'Barnet', 'Bexley', 'Brent', 'Bromley',\n",
    " 'Camden', 'Croydon', 'Ealing', 'Enfield', 'Greenwich', 'Hackney',\n",
    " 'Hammersmith & Fulham', 'Haringey', 'Harrow', 'Havering', 'Hillingdon',\n",
    " 'Hounslow', 'Islington', 'Kensington & Chelsea', 'Kingston upon Thames',\n",
    " 'Lambeth', 'Lewisham', 'Merton', 'Newham', 'Redbridge', 'Richmond upon Thames',\n",
    " 'Southwark', 'Sutton', 'Tower Hamlets', 'Waltham Forest', 'Wandsworth',\n",
    " 'Westminster'])]\n",
    "print(properties_new['London Borough'].unique())\n",
    "print(properties_new.head())"
   ]
  },
  {
   "cell_type": "markdown",
   "metadata": {
    "colab_type": "text",
    "id": "PGEx6mJsp6dG"
   },
   "source": [
    "**2.6. Visualizing the data**\n",
    "\n",
    "To visualize the data, why not subset on a particular London Borough? Maybe do a line plot of Month against Average Price?"
   ]
  },
  {
   "cell_type": "code",
   "execution_count": 73,
   "metadata": {
    "colab": {},
    "colab_type": "code",
    "id": "nAg5pT9cqHAR"
   },
   "outputs": [
    {
     "name": "stdout",
     "output_type": "stream",
     "text": [
      "    London Borough         ID      Month  Average Price\n",
      "29   Tower Hamlets  E09000030 1995-01-01    59865.18995\n",
      "77   Tower Hamlets  E09000030 1995-02-01    62318.53353\n",
      "125  Tower Hamlets  E09000030 1995-03-01    63938.67686\n",
      "173  Tower Hamlets  E09000030 1995-04-01    66233.19383\n",
      "221  Tower Hamlets  E09000030 1995-05-01    66432.85846\n"
     ]
    },
    {
     "data": {
      "image/png": "[encoded data removed]",
      "text/plain": [
       "<Figure size 432x288 with 1 Axes>"
      ]
     },
     "metadata": {},
     "output_type": "display_data"
    }
   ],
   "source": [
    "tower_hamlets = properties_new.loc[properties_new['London Borough'] == 'Tower Hamlets']\n",
    "print(tower_hamlets.head())\n",
    "tower_hamlets.plot(x='Month', y='Average Price')\n",
    "plt.show()"
   ]
  },
  {
   "cell_type": "markdown",
   "metadata": {
    "colab_type": "text",
    "id": "aWTPqSJeqHnC"
   },
   "source": [
    "To limit the number of data points you have, you might want to extract the year from every month value your *Month* column. \n",
    "\n",
    "To this end, you *could* apply a ***lambda function***. Your logic could work as follows:\n",
    "1. look through the `Month` column\n",
    "2. extract the year from each individual value in that column \n",
    "3. store that corresponding year as separate column. \n",
    "\n",
    "Whether you go ahead with this is up to you. Just so long as you answer our initial brief: which boroughs of London have seen the greatest house price increase, on average, over the past two decades? "
   ]
  },
  {
   "cell_type": "code",
   "execution_count": 74,
   "metadata": {
    "colab": {},
    "colab_type": "code",
    "id": "e0DF92cyqnu8"
   },
   "outputs": [
    {
     "name": "stdout",
     "output_type": "stream",
     "text": [
      "       London Borough         ID      Month  Average Price  Year\n",
      "1  Barking & Dagenham  E09000002 1995-01-01    50460.22660  1995\n",
      "2              Barnet  E09000003 1995-01-01    93284.51832  1995\n",
      "3              Bexley  E09000004 1995-01-01    64958.09036  1995\n",
      "4               Brent  E09000005 1995-01-01    71306.56698  1995\n",
      "5             Bromley  E09000006 1995-01-01    81671.47692  1995\n"
     ]
    },
    {
     "name": "stderr",
     "output_type": "stream",
     "text": [
      "C:\\Users\\nickj\\Anaconda3\\lib\\site-packages\\pandas\\core\\indexing.py:337: SettingWithCopyWarning: \n",
      "A value is trying to be set on a copy of a slice from a DataFrame.\n",
      "Try using .loc[row_indexer,col_indexer] = value instead\n",
      "\n",
      "See the caveats in the documentation: http://pandas.pydata.org/pandas-docs/stable/indexing.html#indexing-view-versus-copy\n",
      "  self.obj[key] = _infer_fill_value(value)\n",
      "C:\\Users\\nickj\\Anaconda3\\lib\\site-packages\\pandas\\core\\indexing.py:517: SettingWithCopyWarning: \n",
      "A value is trying to be set on a copy of a slice from a DataFrame.\n",
      "Try using .loc[row_indexer,col_indexer] = value instead\n",
      "\n",
      "See the caveats in the documentation: http://pandas.pydata.org/pandas-docs/stable/indexing.html#indexing-view-versus-copy\n",
      "  self.obj[item] = s\n"
     ]
    }
   ],
   "source": [
    "properties_new.loc[:,'Year'] = properties_new.loc[:,'Month'].apply(lambda x: x.year)\n",
    "print(properties_new.head())\n",
    "dfg = properties_new"
   ]
  },
  {
   "cell_type": "markdown",
   "metadata": {
    "colab_type": "text",
    "id": "2knuTxAEqoJ4"
   },
   "source": [
    "**3. Modeling**\n",
    "\n",
    "Consider creating a function that will calculate a ratio of house prices, comparing the price of a house in 2018 to the price in 1998.\n",
    "\n",
    "Consider calling this function create_price_ratio.\n",
    "\n",
    "You'd want this function to:\n",
    "1. Take a filter of dfg, specifically where this filter constrains the London_Borough, as an argument. For example, one admissible argument should be: dfg[dfg['London_Borough']=='Camden'].\n",
    "2. Get the Average Price for that Borough, for the years 1998 and 2018.\n",
    "4. Calculate the ratio of the Average Price for 1998 divided by the Average Price for 2018.\n",
    "5. Return that ratio.\n",
    "\n",
    "Once you've written this function, you ultimately want to use it to iterate through all the unique London_Boroughs and work out the ratio capturing the difference of house prices between 1998 and 2018.\n",
    "\n",
    "Bear in mind: you don't have to write a function like this if you don't want to. If you can solve the brief otherwise, then great! \n",
    "\n",
    "***Hint***: This section should test the skills you acquired in:\n",
    "- Python Data Science Toolbox - Part One, all modules"
   ]
  },
  {
   "cell_type": "code",
   "execution_count": 77,
   "metadata": {
    "colab": {},
    "colab_type": "code",
    "id": "cKTyr437UgDa"
   },
   "outputs": [
    {
     "name": "stdout",
     "output_type": "stream",
     "text": [
      "{'Barking & Dagenham': Average Price    4.896619\n",
      "dtype: float64, 'Barnet': Average Price    4.358196\n",
      "dtype: float64, 'Bexley': Average Price    4.248977\n",
      "dtype: float64, 'Brent': Average Price    4.894554\n",
      "dtype: float64, 'Bromley': Average Price    4.094785\n",
      "dtype: float64, 'Camden': Average Price    4.935353\n",
      "dtype: float64, 'Croydon': Average Price    4.2011\n",
      "dtype: float64, 'Ealing': Average Price    4.311451\n",
      "dtype: float64, 'Enfield': Average Price    4.263472\n",
      "dtype: float64, 'Greenwich': Average Price    4.763036\n",
      "dtype: float64, 'Hackney': Average Price    6.198286\n",
      "dtype: float64, 'Hammersmith & Fulham': Average Price    4.137798\n",
      "dtype: float64, 'Haringey': Average Price    5.134625\n",
      "dtype: float64, 'Harrow': Average Price    4.059196\n",
      "dtype: float64, 'Havering': Average Price    4.32523\n",
      "dtype: float64, 'Hillingdon': Average Price    4.200273\n",
      "dtype: float64, 'Hounslow': Average Price    3.976409\n",
      "dtype: float64, 'Islington': Average Price    4.844048\n",
      "dtype: float64, 'Kensington & Chelsea': Average Price    5.082465\n",
      "dtype: float64, 'Kingston upon Thames': Average Price    4.27055\n",
      "dtype: float64, 'Lambeth': Average Price    4.957751\n",
      "dtype: float64, 'Lewisham': Average Price    5.449221\n",
      "dtype: float64, 'Merton': Average Price    4.741273\n",
      "dtype: float64, 'Newham': Average Price    5.30539\n",
      "dtype: float64, 'Redbridge': Average Price    4.471182\n",
      "dtype: float64, 'Richmond upon Thames': Average Price    4.005162\n",
      "dtype: float64, 'Southwark': Average Price    5.516485\n",
      "dtype: float64, 'Sutton': Average Price    4.118523\n",
      "dtype: float64, 'Tower Hamlets': Average Price    4.626701\n",
      "dtype: float64, 'Waltham Forest': Average Price    5.834756\n",
      "dtype: float64, 'Wandsworth': Average Price    4.757709\n",
      "dtype: float64, 'Westminster': Average Price    5.353565\n",
      "dtype: float64}\n"
     ]
    }
   ],
   "source": [
    "def create_price_ratio(borough_name):\n",
    "    borough_entries = dfg[dfg['London Borough'] == borough_name]\n",
    "    av_1998 = borough_entries.loc[borough_entries['Year'] == 1998,['Average Price']].mean()\n",
    "    av_2018 = borough_entries.loc[borough_entries['Year'] == 2018,['Average Price']].mean()\n",
    "    ratio = av_2018/av_1998\n",
    "    return ratio\n",
    "    \n",
    "results = {}\n",
    "for borough in dfg['London Borough'].unique():\n",
    "    results[borough] = create_price_ratio(borough)\n",
    "print(results)"
   ]
  },
  {
   "cell_type": "markdown",
   "metadata": {
    "colab_type": "text",
    "id": "NzYUI7FxJpgv"
   },
   "source": [
    "### 4. Conclusion\n",
    "What can you conclude? Type out your conclusion below. \n",
    "\n",
    "From the final data, one can conclude that housing prices have increased between 1998 and 2018 more in Hackney than in any other borough.\n",
    "\n",
    "Look back at your notebook. Think about how you might summarize what you have done, and prepare a quick presentation on it to your mentor at your next meeting. \n",
    "\n",
    "We hope you enjoyed this practical project. It should have consolidated your data hygiene and pandas skills by looking at a real-world problem involving just the kind of dataset you might encounter as a budding data scientist. Congratulations, and looking forward to seeing you at the next step in the course! "
   ]
  }
 ],
 "metadata": {
  "colab": {
   "collapsed_sections": [],
   "name": "Springboard Data Science Career Track Unit 4 Challenge - Tier 3 Complete .ipynb",
   "provenance": []
  },
  "kernelspec": {
   "display_name": "Python 3",
   "language": "python",
   "name": "python3"
  },
  "language_info": {
   "codemirror_mode": {
    "name": "ipython",
    "version": 3
   },
   "file_extension": ".py",
   "mimetype": "text/x-python",
   "name": "python",
   "nbconvert_exporter": "python",
   "pygments_lexer": "ipython3",
   "version": "3.6.3"
  }
 },
 "nbformat": 4,
 "nbformat_minor": 1
}
