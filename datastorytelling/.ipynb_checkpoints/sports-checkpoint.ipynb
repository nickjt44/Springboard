{
 "cells": [
  {
   "cell_type": "markdown",
   "metadata": {},
   "source": [
    "I will be exploring a dataset of the highest paid sportspeople over the past 30 years. I hope to gain insights from it including the distribution of different sports among the highest paid athletes, the distribution of their nationalities, and how their pay has fluctuated over the years."
   ]
  },
  {
   "cell_type": "markdown",
   "metadata": {},
   "source": [
    "First, I will load relevant libraries, the dataset, and observe the first few rows."
   ]
  },
  {
   "cell_type": "code",
   "execution_count": 41,
   "metadata": {},
   "outputs": [],
   "source": [
    "import pandas as pd\n",
    "import numpy as np\n",
    "import matplotlib.pyplot as plt\n",
    "import seaborn as sns"
   ]
  },
  {
   "cell_type": "code",
   "execution_count": 42,
   "metadata": {},
   "outputs": [],
   "source": [
    "df = pd.read_csv('richest_athletes.csv',index_col=0)"
   ]
  },
  {
   "cell_type": "code",
   "execution_count": 43,
   "metadata": {},
   "outputs": [
    {
     "data": {
      "text/html": [
       "<div>\n",
       "<style scoped>\n",
       "    .dataframe tbody tr th:only-of-type {\n",
       "        vertical-align: middle;\n",
       "    }\n",
       "\n",
       "    .dataframe tbody tr th {\n",
       "        vertical-align: top;\n",
       "    }\n",
       "\n",
       "    .dataframe thead th {\n",
       "        text-align: right;\n",
       "    }\n",
       "</style>\n",
       "<table border=\"1\" class=\"dataframe\">\n",
       "  <thead>\n",
       "    <tr style=\"text-align: right;\">\n",
       "      <th></th>\n",
       "      <th>Name</th>\n",
       "      <th>Nationality</th>\n",
       "      <th>Current Rank</th>\n",
       "      <th>Previous Year Rank</th>\n",
       "      <th>Sport</th>\n",
       "      <th>Year</th>\n",
       "      <th>earnings ($ million)</th>\n",
       "    </tr>\n",
       "    <tr>\n",
       "      <th>S.NO</th>\n",
       "      <th></th>\n",
       "      <th></th>\n",
       "      <th></th>\n",
       "      <th></th>\n",
       "      <th></th>\n",
       "      <th></th>\n",
       "      <th></th>\n",
       "    </tr>\n",
       "  </thead>\n",
       "  <tbody>\n",
       "    <tr>\n",
       "      <th>1</th>\n",
       "      <td>Mike Tyson</td>\n",
       "      <td>USA</td>\n",
       "      <td>1</td>\n",
       "      <td>NaN</td>\n",
       "      <td>boxing</td>\n",
       "      <td>1990</td>\n",
       "      <td>28.6</td>\n",
       "    </tr>\n",
       "    <tr>\n",
       "      <th>2</th>\n",
       "      <td>Buster Douglas</td>\n",
       "      <td>USA</td>\n",
       "      <td>2</td>\n",
       "      <td>NaN</td>\n",
       "      <td>boxing</td>\n",
       "      <td>1990</td>\n",
       "      <td>26.0</td>\n",
       "    </tr>\n",
       "    <tr>\n",
       "      <th>3</th>\n",
       "      <td>Sugar Ray Leonard</td>\n",
       "      <td>USA</td>\n",
       "      <td>3</td>\n",
       "      <td>NaN</td>\n",
       "      <td>boxing</td>\n",
       "      <td>1990</td>\n",
       "      <td>13.0</td>\n",
       "    </tr>\n",
       "    <tr>\n",
       "      <th>4</th>\n",
       "      <td>Ayrton Senna</td>\n",
       "      <td>Brazil</td>\n",
       "      <td>4</td>\n",
       "      <td>NaN</td>\n",
       "      <td>auto racing</td>\n",
       "      <td>1990</td>\n",
       "      <td>10.0</td>\n",
       "    </tr>\n",
       "    <tr>\n",
       "      <th>5</th>\n",
       "      <td>Alain Prost</td>\n",
       "      <td>France</td>\n",
       "      <td>5</td>\n",
       "      <td>NaN</td>\n",
       "      <td>auto racing</td>\n",
       "      <td>1990</td>\n",
       "      <td>9.0</td>\n",
       "    </tr>\n",
       "  </tbody>\n",
       "</table>\n",
       "</div>"
      ],
      "text/plain": [
       "                   Name Nationality  Current Rank Previous Year Rank  \\\n",
       "S.NO                                                                   \n",
       "1            Mike Tyson         USA             1                NaN   \n",
       "2        Buster Douglas         USA             2                NaN   \n",
       "3     Sugar Ray Leonard         USA             3                NaN   \n",
       "4          Ayrton Senna      Brazil             4                NaN   \n",
       "5           Alain Prost      France             5                NaN   \n",
       "\n",
       "            Sport  Year  earnings ($ million)  \n",
       "S.NO                                           \n",
       "1          boxing  1990                  28.6  \n",
       "2          boxing  1990                  26.0  \n",
       "3          boxing  1990                  13.0  \n",
       "4     auto racing  1990                  10.0  \n",
       "5     auto racing  1990                   9.0  "
      ]
     },
     "execution_count": 43,
     "metadata": {},
     "output_type": "execute_result"
    }
   ],
   "source": [
    "df.head()"
   ]
  },
  {
   "cell_type": "markdown",
   "metadata": {},
   "source": [
    "Here, I check the different sports being represented."
   ]
  },
  {
   "cell_type": "code",
   "execution_count": 44,
   "metadata": {},
   "outputs": [
    {
     "data": {
      "text/plain": [
       "array(['boxing', 'auto racing', 'golf', 'basketball', 'Basketball',\n",
       "       'Boxing', 'Auto Racing', 'Golf', 'Tennis', 'NFL', 'Auto racing',\n",
       "       'NBA', 'Baseball', 'Ice Hockey', 'American Football / Baseball',\n",
       "       'tennis', 'ice hockey', 'F1 Motorsports', 'NASCAR', 'Hockey',\n",
       "       'Auto Racing (Nascar)', 'F1 racing', 'American Football', 'soccer',\n",
       "       'baseball', 'cycling', 'motorcycle gp', 'Soccer', 'MMA'],\n",
       "      dtype=object)"
      ]
     },
     "execution_count": 44,
     "metadata": {},
     "output_type": "execute_result"
    }
   ],
   "source": [
    "df['Sport'].unique()"
   ]
  },
  {
   "cell_type": "markdown",
   "metadata": {},
   "source": [
    "There are a lot of duplicate sports here, due to alternative titles or capitalizations not being taken into account. I will remedy this."
   ]
  },
  {
   "cell_type": "code",
   "execution_count": 45,
   "metadata": {},
   "outputs": [
    {
     "name": "stderr",
     "output_type": "stream",
     "text": [
      "<ipython-input-45-aea78553a09a>:1: SettingWithCopyWarning: \n",
      "A value is trying to be set on a copy of a slice from a DataFrame\n",
      "\n",
      "See the caveats in the documentation: https://pandas.pydata.org/pandas-docs/stable/user_guide/indexing.html#returning-a-view-versus-a-copy\n",
      "  df['Sport'][df['Sport'].isin(['F1 Motorsports','auto racing','Auto Racing','F1 racing','Auto Racing (Nascar)','NASCAR','Auto racing'])] = 'Auto Racing'\n",
      "<ipython-input-45-aea78553a09a>:2: SettingWithCopyWarning: \n",
      "A value is trying to be set on a copy of a slice from a DataFrame\n",
      "\n",
      "See the caveats in the documentation: https://pandas.pydata.org/pandas-docs/stable/user_guide/indexing.html#returning-a-view-versus-a-copy\n",
      "  df['Sport'][df['Sport'].isin(['Ice Hockey','ice hockey','Hockey'])] = 'Hockey'\n",
      "<ipython-input-45-aea78553a09a>:3: SettingWithCopyWarning: \n",
      "A value is trying to be set on a copy of a slice from a DataFrame\n",
      "\n",
      "See the caveats in the documentation: https://pandas.pydata.org/pandas-docs/stable/user_guide/indexing.html#returning-a-view-versus-a-copy\n",
      "  df['Sport'][df['Sport'].isin(['tennis','Tennis'])] = 'Tennis'\n",
      "<ipython-input-45-aea78553a09a>:4: SettingWithCopyWarning: \n",
      "A value is trying to be set on a copy of a slice from a DataFrame\n",
      "\n",
      "See the caveats in the documentation: https://pandas.pydata.org/pandas-docs/stable/user_guide/indexing.html#returning-a-view-versus-a-copy\n",
      "  df['Sport'][df['Sport'].isin(['golf','Golf'])] = 'Golf'\n",
      "<ipython-input-45-aea78553a09a>:5: SettingWithCopyWarning: \n",
      "A value is trying to be set on a copy of a slice from a DataFrame\n",
      "\n",
      "See the caveats in the documentation: https://pandas.pydata.org/pandas-docs/stable/user_guide/indexing.html#returning-a-view-versus-a-copy\n",
      "  df['Sport'][df['Sport'].isin(['NFL','American Football'])] = 'American Football'\n",
      "<ipython-input-45-aea78553a09a>:6: SettingWithCopyWarning: \n",
      "A value is trying to be set on a copy of a slice from a DataFrame\n",
      "\n",
      "See the caveats in the documentation: https://pandas.pydata.org/pandas-docs/stable/user_guide/indexing.html#returning-a-view-versus-a-copy\n",
      "  df['Sport'][df['Sport'].isin(['ice hockey','Ice Hockey','Hockey'])] = 'Hockey'\n",
      "<ipython-input-45-aea78553a09a>:7: SettingWithCopyWarning: \n",
      "A value is trying to be set on a copy of a slice from a DataFrame\n",
      "\n",
      "See the caveats in the documentation: https://pandas.pydata.org/pandas-docs/stable/user_guide/indexing.html#returning-a-view-versus-a-copy\n",
      "  df['Sport'][df['Sport'].isin(['boxing','Boxing'])] = 'Boxing'\n",
      "<ipython-input-45-aea78553a09a>:8: SettingWithCopyWarning: \n",
      "A value is trying to be set on a copy of a slice from a DataFrame\n",
      "\n",
      "See the caveats in the documentation: https://pandas.pydata.org/pandas-docs/stable/user_guide/indexing.html#returning-a-view-versus-a-copy\n",
      "  df['Sport'][df['Sport'].isin(['tennis','Tennis'])] = 'Tennis'\n",
      "<ipython-input-45-aea78553a09a>:9: SettingWithCopyWarning: \n",
      "A value is trying to be set on a copy of a slice from a DataFrame\n",
      "\n",
      "See the caveats in the documentation: https://pandas.pydata.org/pandas-docs/stable/user_guide/indexing.html#returning-a-view-versus-a-copy\n",
      "  df['Sport'][df['Sport'].isin(['basketball','Basketball','NBA'])] = 'Basketball'\n",
      "<ipython-input-45-aea78553a09a>:10: SettingWithCopyWarning: \n",
      "A value is trying to be set on a copy of a slice from a DataFrame\n",
      "\n",
      "See the caveats in the documentation: https://pandas.pydata.org/pandas-docs/stable/user_guide/indexing.html#returning-a-view-versus-a-copy\n",
      "  df['Sport'][df['Sport'].isin(['motorcycle gp'])] = 'Motorcycle Racing'\n",
      "<ipython-input-45-aea78553a09a>:11: SettingWithCopyWarning: \n",
      "A value is trying to be set on a copy of a slice from a DataFrame\n",
      "\n",
      "See the caveats in the documentation: https://pandas.pydata.org/pandas-docs/stable/user_guide/indexing.html#returning-a-view-versus-a-copy\n",
      "  df['Sport'][df['Sport'].isin(['soccer','Soccer'])] = 'Soccer'\n",
      "<ipython-input-45-aea78553a09a>:12: SettingWithCopyWarning: \n",
      "A value is trying to be set on a copy of a slice from a DataFrame\n",
      "\n",
      "See the caveats in the documentation: https://pandas.pydata.org/pandas-docs/stable/user_guide/indexing.html#returning-a-view-versus-a-copy\n",
      "  df['Sport'][df['Sport'].isin(['baseball','Baseball'])] = 'Baseball'\n",
      "<ipython-input-45-aea78553a09a>:13: SettingWithCopyWarning: \n",
      "A value is trying to be set on a copy of a slice from a DataFrame\n",
      "\n",
      "See the caveats in the documentation: https://pandas.pydata.org/pandas-docs/stable/user_guide/indexing.html#returning-a-view-versus-a-copy\n",
      "  df['Sport'][df['Sport'].isin(['cycling'])] = 'Cycling'\n"
     ]
    }
   ],
   "source": [
    "df['Sport'][df['Sport'].isin(['F1 Motorsports','auto racing','Auto Racing','F1 racing','Auto Racing (Nascar)','NASCAR','Auto racing'])] = 'Auto Racing'\n",
    "df['Sport'][df['Sport'].isin(['Ice Hockey','ice hockey','Hockey'])] = 'Hockey'\n",
    "df['Sport'][df['Sport'].isin(['tennis','Tennis'])] = 'Tennis'\n",
    "df['Sport'][df['Sport'].isin(['golf','Golf'])] = 'Golf'\n",
    "df['Sport'][df['Sport'].isin(['NFL','American Football'])] = 'American Football'\n",
    "df['Sport'][df['Sport'].isin(['ice hockey','Ice Hockey','Hockey'])] = 'Hockey'\n",
    "df['Sport'][df['Sport'].isin(['boxing','Boxing'])] = 'Boxing'\n",
    "df['Sport'][df['Sport'].isin(['tennis','Tennis'])] = 'Tennis'\n",
    "df['Sport'][df['Sport'].isin(['basketball','Basketball','NBA'])] = 'Basketball'\n",
    "df['Sport'][df['Sport'].isin(['motorcycle gp'])] = 'Motorcycle Racing'\n",
    "df['Sport'][df['Sport'].isin(['soccer','Soccer'])] = 'Soccer'\n",
    "df['Sport'][df['Sport'].isin(['baseball','Baseball'])] = 'Baseball'\n",
    "df['Sport'][df['Sport'].isin(['cycling'])] = 'Cycling'"
   ]
  },
  {
   "cell_type": "code",
   "execution_count": 46,
   "metadata": {},
   "outputs": [
    {
     "data": {
      "text/plain": [
       "array(['Boxing', 'Auto Racing', 'Golf', 'Basketball', 'Tennis',\n",
       "       'American Football', 'Baseball', 'Hockey',\n",
       "       'American Football / Baseball', 'Soccer', 'Cycling',\n",
       "       'Motorcycle Racing', 'MMA'], dtype=object)"
      ]
     },
     "execution_count": 46,
     "metadata": {},
     "output_type": "execute_result"
    }
   ],
   "source": [
    "df['Sport'].unique()"
   ]
  },
  {
   "cell_type": "markdown",
   "metadata": {},
   "source": [
    "That's better.\n",
    "\n",
    "Now, I will convert the year column to datetime, and create new separate entries for the 'American Football / Baseball' entry."
   ]
  },
  {
   "cell_type": "code",
   "execution_count": 47,
   "metadata": {},
   "outputs": [],
   "source": [
    "df['Year'] = pd.to_datetime(df['Year'],format='%Y')"
   ]
  },
  {
   "cell_type": "code",
   "execution_count": 48,
   "metadata": {},
   "outputs": [],
   "source": [
    "df_copy = df.copy()"
   ]
  },
  {
   "cell_type": "code",
   "execution_count": 49,
   "metadata": {},
   "outputs": [],
   "source": [
    "df_copy = df_copy.append({'Name':'Deion Sanders','Nationality':'USA','Current Rank':3,'Previous Year Rank':38,'Sport':'American Football',\n",
    "               'Year':df[df['Sport'] == 'American Football / Baseball'].Year.iloc[0],'earnings ($ million)':22.5},ignore_index=True)\n",
    "df_copy = df_copy.append({'Name':'Deion Sanders','Nationality':'USA','Current Rank':3,'Previous Year Rank':38,'Sport':'Baseball',\n",
    "               'Year':df[df['Sport'] == 'American Football / Baseball'].Year.iloc[0],'earnings ($ million)':22.5},ignore_index=True)"
   ]
  },
  {
   "cell_type": "code",
   "execution_count": 50,
   "metadata": {},
   "outputs": [],
   "source": [
    "df_copy = df_copy[df_copy['Sport'] != 'American Football / Baseball']"
   ]
  },
  {
   "cell_type": "markdown",
   "metadata": {},
   "source": [
    "Next, I create a new Dataframe consisting of only the sport, the year, and the name of the athlete."
   ]
  },
  {
   "cell_type": "code",
   "execution_count": 51,
   "metadata": {},
   "outputs": [],
   "source": [
    "df_sports = df_copy[['Sport','Year','Name']]"
   ]
  },
  {
   "cell_type": "code",
   "execution_count": 52,
   "metadata": {},
   "outputs": [
    {
     "data": {
      "text/html": [
       "<div>\n",
       "<style scoped>\n",
       "    .dataframe tbody tr th:only-of-type {\n",
       "        vertical-align: middle;\n",
       "    }\n",
       "\n",
       "    .dataframe tbody tr th {\n",
       "        vertical-align: top;\n",
       "    }\n",
       "\n",
       "    .dataframe thead th {\n",
       "        text-align: right;\n",
       "    }\n",
       "</style>\n",
       "<table border=\"1\" class=\"dataframe\">\n",
       "  <thead>\n",
       "    <tr style=\"text-align: right;\">\n",
       "      <th></th>\n",
       "      <th>Sport</th>\n",
       "      <th>Year</th>\n",
       "      <th>Name</th>\n",
       "    </tr>\n",
       "  </thead>\n",
       "  <tbody>\n",
       "    <tr>\n",
       "      <th>0</th>\n",
       "      <td>Boxing</td>\n",
       "      <td>1990-01-01</td>\n",
       "      <td>Mike Tyson</td>\n",
       "    </tr>\n",
       "    <tr>\n",
       "      <th>1</th>\n",
       "      <td>Boxing</td>\n",
       "      <td>1990-01-01</td>\n",
       "      <td>Buster Douglas</td>\n",
       "    </tr>\n",
       "    <tr>\n",
       "      <th>2</th>\n",
       "      <td>Boxing</td>\n",
       "      <td>1990-01-01</td>\n",
       "      <td>Sugar Ray Leonard</td>\n",
       "    </tr>\n",
       "    <tr>\n",
       "      <th>3</th>\n",
       "      <td>Auto Racing</td>\n",
       "      <td>1990-01-01</td>\n",
       "      <td>Ayrton Senna</td>\n",
       "    </tr>\n",
       "    <tr>\n",
       "      <th>4</th>\n",
       "      <td>Auto Racing</td>\n",
       "      <td>1990-01-01</td>\n",
       "      <td>Alain Prost</td>\n",
       "    </tr>\n",
       "    <tr>\n",
       "      <th>...</th>\n",
       "      <td>...</td>\n",
       "      <td>...</td>\n",
       "      <td>...</td>\n",
       "    </tr>\n",
       "    <tr>\n",
       "      <th>298</th>\n",
       "      <td>Golf</td>\n",
       "      <td>2020-01-01</td>\n",
       "      <td>Tiger Woods</td>\n",
       "    </tr>\n",
       "    <tr>\n",
       "      <th>299</th>\n",
       "      <td>American Football</td>\n",
       "      <td>2020-01-01</td>\n",
       "      <td>Kirk Cousins</td>\n",
       "    </tr>\n",
       "    <tr>\n",
       "      <th>300</th>\n",
       "      <td>American Football</td>\n",
       "      <td>2020-01-01</td>\n",
       "      <td>Carson Wentz</td>\n",
       "    </tr>\n",
       "    <tr>\n",
       "      <th>301</th>\n",
       "      <td>American Football</td>\n",
       "      <td>1995-01-01</td>\n",
       "      <td>Deion Sanders</td>\n",
       "    </tr>\n",
       "    <tr>\n",
       "      <th>302</th>\n",
       "      <td>Baseball</td>\n",
       "      <td>1995-01-01</td>\n",
       "      <td>Deion Sanders</td>\n",
       "    </tr>\n",
       "  </tbody>\n",
       "</table>\n",
       "<p>302 rows × 3 columns</p>\n",
       "</div>"
      ],
      "text/plain": [
       "                 Sport       Year               Name\n",
       "0               Boxing 1990-01-01         Mike Tyson\n",
       "1               Boxing 1990-01-01     Buster Douglas\n",
       "2               Boxing 1990-01-01  Sugar Ray Leonard\n",
       "3          Auto Racing 1990-01-01       Ayrton Senna\n",
       "4          Auto Racing 1990-01-01        Alain Prost\n",
       "..                 ...        ...                ...\n",
       "298               Golf 2020-01-01        Tiger Woods\n",
       "299  American Football 2020-01-01       Kirk Cousins\n",
       "300  American Football 2020-01-01       Carson Wentz\n",
       "301  American Football 1995-01-01      Deion Sanders\n",
       "302           Baseball 1995-01-01      Deion Sanders\n",
       "\n",
       "[302 rows x 3 columns]"
      ]
     },
     "execution_count": 52,
     "metadata": {},
     "output_type": "execute_result"
    }
   ],
   "source": [
    "df_sports"
   ]
  },
  {
   "cell_type": "markdown",
   "metadata": {},
   "source": [
    "I create a new column representing the decade for visualization purposes."
   ]
  },
  {
   "cell_type": "code",
   "execution_count": 53,
   "metadata": {
    "scrolled": true
   },
   "outputs": [
    {
     "name": "stderr",
     "output_type": "stream",
     "text": [
      "<ipython-input-53-eb032794faf7>:1: SettingWithCopyWarning: \n",
      "A value is trying to be set on a copy of a slice from a DataFrame.\n",
      "Try using .loc[row_indexer,col_indexer] = value instead\n",
      "\n",
      "See the caveats in the documentation: https://pandas.pydata.org/pandas-docs/stable/user_guide/indexing.html#returning-a-view-versus-a-copy\n",
      "  df_sports['decade'] = df_sports['Year'].dt.year // 10 * 10\n"
     ]
    }
   ],
   "source": [
    "df_sports['decade'] = df_sports['Year'].dt.year // 10 * 10"
   ]
  },
  {
   "cell_type": "code",
   "execution_count": 54,
   "metadata": {},
   "outputs": [
    {
     "name": "stderr",
     "output_type": "stream",
     "text": [
      "<ipython-input-54-45cbd8254359>:1: SettingWithCopyWarning: \n",
      "A value is trying to be set on a copy of a slice from a DataFrame\n",
      "\n",
      "See the caveats in the documentation: https://pandas.pydata.org/pandas-docs/stable/user_guide/indexing.html#returning-a-view-versus-a-copy\n",
      "  df_sports['decade'][df_sports['decade'] == 2020] = 2010\n",
      "C:\\Users\\nickj\\anaconda3\\lib\\site-packages\\pandas\\core\\series.py:992: SettingWithCopyWarning: \n",
      "A value is trying to be set on a copy of a slice from a DataFrame\n",
      "\n",
      "See the caveats in the documentation: https://pandas.pydata.org/pandas-docs/stable/user_guide/indexing.html#returning-a-view-versus-a-copy\n",
      "  self._where(~key, value, inplace=True)\n"
     ]
    }
   ],
   "source": [
    "df_sports['decade'][df_sports['decade'] == 2020] = 2010"
   ]
  },
  {
   "cell_type": "markdown",
   "metadata": {},
   "source": [
    "I group by sport and decade, and then pivot using 'decade' as the columns and 'Sport' as the index."
   ]
  },
  {
   "cell_type": "code",
   "execution_count": 55,
   "metadata": {},
   "outputs": [],
   "source": [
    "df_sports_grouped = df_sports.groupby(['Sport','decade']).size().reset_index().pivot(columns='decade',index='Sport')"
   ]
  },
  {
   "cell_type": "code",
   "execution_count": 56,
   "metadata": {},
   "outputs": [],
   "source": [
    "df_sports_grouped = df_sports_grouped.fillna(0)"
   ]
  },
  {
   "cell_type": "markdown",
   "metadata": {},
   "source": [
    "Finally, I plot a stacked bar graph of the representation of different sports in the top 10 highest paid athletes. The colors represent the three decades.\n",
    "\n",
    "Basketball has been very consistently represented for the past 3 decades, while auto racing has significantly less recent representation."
   ]
  },
  {
   "cell_type": "code",
   "execution_count": 57,
   "metadata": {},
   "outputs": [
    {
     "data": {
      "text/plain": [
       "<matplotlib.legend.Legend at 0x225db838d90>"
      ]
     },
     "execution_count": 57,
     "metadata": {},
     "output_type": "execute_result"
    },
    {
     "data": {
      "image/png": "[encoded data removed]",
      "text/plain": [
       "<Figure size 720x720 with 1 Axes>"
      ]
     },
     "metadata": {
      "needs_background": "light"
     },
     "output_type": "display_data"
    }
   ],
   "source": [
    "df_sports_grouped.plot(kind='bar',stacked=True,colormap='flare',fontsize=15,figsize=(10,10))\n",
    "plt.legend(labels=['1990s','2000s','2010s'])"
   ]
  },
  {
   "cell_type": "markdown",
   "metadata": {},
   "source": [
    "Next, I will explore the distribution of nationalities among the athletes, taking similar steps to before."
   ]
  },
  {
   "cell_type": "code",
   "execution_count": 58,
   "metadata": {},
   "outputs": [
    {
     "data": {
      "text/plain": [
       "array(['USA', 'Brazil', 'France', 'Australia', 'Canada', 'UK', 'Austria',\n",
       "       'Germany', 'Russia', 'Italy', 'Finland', 'Switzerland',\n",
       "       'Philippines', 'Portugal', 'Dominican', 'Argentina', 'Filipino',\n",
       "       'Spain', 'Serbia', 'Northern Ireland', 'Ireland', 'Mexico'],\n",
       "      dtype=object)"
      ]
     },
     "execution_count": 58,
     "metadata": {},
     "output_type": "execute_result"
    }
   ],
   "source": [
    "df['Nationality'].unique()"
   ]
  },
  {
   "cell_type": "code",
   "execution_count": 59,
   "metadata": {},
   "outputs": [
    {
     "name": "stderr",
     "output_type": "stream",
     "text": [
      "<ipython-input-59-bbb0996003ac>:1: SettingWithCopyWarning: \n",
      "A value is trying to be set on a copy of a slice from a DataFrame\n",
      "\n",
      "See the caveats in the documentation: https://pandas.pydata.org/pandas-docs/stable/user_guide/indexing.html#returning-a-view-versus-a-copy\n",
      "  df['Nationality'][df['Nationality'] == 'Filipino'] = 'Philippines'\n",
      "<ipython-input-59-bbb0996003ac>:2: SettingWithCopyWarning: \n",
      "A value is trying to be set on a copy of a slice from a DataFrame\n",
      "\n",
      "See the caveats in the documentation: https://pandas.pydata.org/pandas-docs/stable/user_guide/indexing.html#returning-a-view-versus-a-copy\n",
      "  df['Nationality'][df['Nationality'] == 'Northern Ireland'] = 'Ireland'\n"
     ]
    }
   ],
   "source": [
    "df['Nationality'][df['Nationality'] == 'Filipino'] = 'Philippines'\n",
    "df['Nationality'][df['Nationality'] == 'Northern Ireland'] = 'Ireland'"
   ]
  },
  {
   "cell_type": "code",
   "execution_count": 60,
   "metadata": {},
   "outputs": [],
   "source": [
    "df_country = df[['Nationality','Year','Name']]"
   ]
  },
  {
   "cell_type": "code",
   "execution_count": 61,
   "metadata": {},
   "outputs": [
    {
     "name": "stderr",
     "output_type": "stream",
     "text": [
      "<ipython-input-61-0045372591d5>:1: SettingWithCopyWarning: \n",
      "A value is trying to be set on a copy of a slice from a DataFrame.\n",
      "Try using .loc[row_indexer,col_indexer] = value instead\n",
      "\n",
      "See the caveats in the documentation: https://pandas.pydata.org/pandas-docs/stable/user_guide/indexing.html#returning-a-view-versus-a-copy\n",
      "  df_country['decade'] = df_country['Year'].dt.year // 10 * 10\n",
      "<ipython-input-61-0045372591d5>:2: SettingWithCopyWarning: \n",
      "A value is trying to be set on a copy of a slice from a DataFrame\n",
      "\n",
      "See the caveats in the documentation: https://pandas.pydata.org/pandas-docs/stable/user_guide/indexing.html#returning-a-view-versus-a-copy\n",
      "  df_country['decade'][df_country['decade'] == 2020] = 2010\n",
      "C:\\Users\\nickj\\anaconda3\\lib\\site-packages\\pandas\\core\\series.py:992: SettingWithCopyWarning: \n",
      "A value is trying to be set on a copy of a slice from a DataFrame\n",
      "\n",
      "See the caveats in the documentation: https://pandas.pydata.org/pandas-docs/stable/user_guide/indexing.html#returning-a-view-versus-a-copy\n",
      "  self._where(~key, value, inplace=True)\n"
     ]
    }
   ],
   "source": [
    "df_country['decade'] = df_country['Year'].dt.year // 10 * 10\n",
    "df_country['decade'][df_country['decade'] == 2020] = 2010"
   ]
  },
  {
   "cell_type": "markdown",
   "metadata": {},
   "source": [
    "I will focus on whether a country is the USA or not, since the USA is highly represented among highly paid athletes."
   ]
  },
  {
   "cell_type": "code",
   "execution_count": 62,
   "metadata": {},
   "outputs": [
    {
     "name": "stderr",
     "output_type": "stream",
     "text": [
      "<ipython-input-62-fdbe1b1486f6>:1: SettingWithCopyWarning: \n",
      "A value is trying to be set on a copy of a slice from a DataFrame\n",
      "\n",
      "See the caveats in the documentation: https://pandas.pydata.org/pandas-docs/stable/user_guide/indexing.html#returning-a-view-versus-a-copy\n",
      "  df_country['Nationality'][df_country['Nationality'] != 'USA'] = 'Not USA'\n"
     ]
    }
   ],
   "source": [
    "df_country['Nationality'][df_country['Nationality'] != 'USA'] = 'Not USA'"
   ]
  },
  {
   "cell_type": "code",
   "execution_count": 63,
   "metadata": {},
   "outputs": [],
   "source": [
    "df_country_grouped = df_country.groupby(['Nationality','Year']).size().reset_index().pivot(columns='Nationality',index='Year')\n",
    "df_country_grouped = df_country_grouped.fillna(0)"
   ]
  },
  {
   "cell_type": "code",
   "execution_count": 64,
   "metadata": {},
   "outputs": [],
   "source": [
    "df_country_grouped = df_country_grouped[0]"
   ]
  },
  {
   "cell_type": "markdown",
   "metadata": {},
   "source": [
    "I will graph the proportion of athletes that are from the USA."
   ]
  },
  {
   "cell_type": "code",
   "execution_count": 65,
   "metadata": {},
   "outputs": [],
   "source": [
    "df_country_grouped['proportion'] = df_country_grouped.loc[:,'USA'] / (df_country_grouped.loc[:,'USA'] + df_country_grouped.loc[:,'Not USA'])"
   ]
  },
  {
   "cell_type": "code",
   "execution_count": 66,
   "metadata": {},
   "outputs": [],
   "source": [
    "df_country_grouped.index = df_country_grouped.index.year"
   ]
  },
  {
   "cell_type": "markdown",
   "metadata": {},
   "source": [
    "Perhaps surprisingly, the US is less dominant in recent years than it has been in the past, though for the majority of the time over 50% of the highest paid athletes have been American."
   ]
  },
  {
   "cell_type": "code",
   "execution_count": 67,
   "metadata": {},
   "outputs": [
    {
     "data": {
      "text/plain": [
       "<matplotlib.legend.Legend at 0x225d8c3b1f0>"
      ]
     },
     "execution_count": 67,
     "metadata": {},
     "output_type": "execute_result"
    },
    {
     "data": {
      "image/png": "[encoded data removed]",
      "text/plain": [
       "<Figure size 720x720 with 1 Axes>"
      ]
     },
     "metadata": {
      "needs_background": "light"
     },
     "output_type": "display_data"
    }
   ],
   "source": [
    "df_country_grouped[['proportion']].plot(kind='bar',colormap='flare',fontsize=15,figsize=(10,10))\n",
    "plt.legend(labels=['proportion USA'])"
   ]
  },
  {
   "cell_type": "markdown",
   "metadata": {},
   "source": [
    "Now, I will explore how the earnings themselves have developed over time."
   ]
  },
  {
   "cell_type": "markdown",
   "metadata": {},
   "source": [
    "First, I will calculate the median salary for each year and graph it."
   ]
  },
  {
   "cell_type": "code",
   "execution_count": 68,
   "metadata": {},
   "outputs": [],
   "source": [
    "df_av = df[['Year','earnings ($ million)']].groupby('Year').median()"
   ]
  },
  {
   "cell_type": "code",
   "execution_count": 69,
   "metadata": {},
   "outputs": [
    {
     "data": {
      "text/html": [
       "<div>\n",
       "<style scoped>\n",
       "    .dataframe tbody tr th:only-of-type {\n",
       "        vertical-align: middle;\n",
       "    }\n",
       "\n",
       "    .dataframe tbody tr th {\n",
       "        vertical-align: top;\n",
       "    }\n",
       "\n",
       "    .dataframe thead th {\n",
       "        text-align: right;\n",
       "    }\n",
       "</style>\n",
       "<table border=\"1\" class=\"dataframe\">\n",
       "  <thead>\n",
       "    <tr style=\"text-align: right;\">\n",
       "      <th></th>\n",
       "      <th>earnings ($ million)</th>\n",
       "    </tr>\n",
       "    <tr>\n",
       "      <th>Year</th>\n",
       "      <th></th>\n",
       "    </tr>\n",
       "  </thead>\n",
       "  <tbody>\n",
       "    <tr>\n",
       "      <th>1990-01-01</th>\n",
       "      <td>8.80</td>\n",
       "    </tr>\n",
       "    <tr>\n",
       "      <th>1991-01-01</th>\n",
       "      <td>12.00</td>\n",
       "    </tr>\n",
       "    <tr>\n",
       "      <th>1992-01-01</th>\n",
       "      <td>11.05</td>\n",
       "    </tr>\n",
       "    <tr>\n",
       "      <th>1993-01-01</th>\n",
       "      <td>15.50</td>\n",
       "    </tr>\n",
       "    <tr>\n",
       "      <th>1994-01-01</th>\n",
       "      <td>13.50</td>\n",
       "    </tr>\n",
       "    <tr>\n",
       "      <th>1995-01-01</th>\n",
       "      <td>19.95</td>\n",
       "    </tr>\n",
       "    <tr>\n",
       "      <th>1996-01-01</th>\n",
       "      <td>16.00</td>\n",
       "    </tr>\n",
       "    <tr>\n",
       "      <th>1997-01-01</th>\n",
       "      <td>26.55</td>\n",
       "    </tr>\n",
       "    <tr>\n",
       "      <th>1998-01-01</th>\n",
       "      <td>22.85</td>\n",
       "    </tr>\n",
       "    <tr>\n",
       "      <th>1999-01-01</th>\n",
       "      <td>34.25</td>\n",
       "    </tr>\n",
       "    <tr>\n",
       "      <th>2000-01-01</th>\n",
       "      <td>25.25</td>\n",
       "    </tr>\n",
       "    <tr>\n",
       "      <th>2002-01-01</th>\n",
       "      <td>24.00</td>\n",
       "    </tr>\n",
       "    <tr>\n",
       "      <th>2003-01-01</th>\n",
       "      <td>29.00</td>\n",
       "    </tr>\n",
       "    <tr>\n",
       "      <th>2004-01-01</th>\n",
       "      <td>30.80</td>\n",
       "    </tr>\n",
       "    <tr>\n",
       "      <th>2005-01-01</th>\n",
       "      <td>33.20</td>\n",
       "    </tr>\n",
       "    <tr>\n",
       "      <th>2006-01-01</th>\n",
       "      <td>31.50</td>\n",
       "    </tr>\n",
       "    <tr>\n",
       "      <th>2007-01-01</th>\n",
       "      <td>34.50</td>\n",
       "    </tr>\n",
       "    <tr>\n",
       "      <th>2008-01-01</th>\n",
       "      <td>41.50</td>\n",
       "    </tr>\n",
       "    <tr>\n",
       "      <th>2009-01-01</th>\n",
       "      <td>41.00</td>\n",
       "    </tr>\n",
       "    <tr>\n",
       "      <th>2010-01-01</th>\n",
       "      <td>43.35</td>\n",
       "    </tr>\n",
       "    <tr>\n",
       "      <th>2011-01-01</th>\n",
       "      <td>43.25</td>\n",
       "    </tr>\n",
       "    <tr>\n",
       "      <th>2012-01-01</th>\n",
       "      <td>52.50</td>\n",
       "    </tr>\n",
       "    <tr>\n",
       "      <th>2013-01-01</th>\n",
       "      <td>50.00</td>\n",
       "    </tr>\n",
       "    <tr>\n",
       "      <th>2014-01-01</th>\n",
       "      <td>61.35</td>\n",
       "    </tr>\n",
       "    <tr>\n",
       "      <th>2015-01-01</th>\n",
       "      <td>65.90</td>\n",
       "    </tr>\n",
       "    <tr>\n",
       "      <th>2016-01-01</th>\n",
       "      <td>56.00</td>\n",
       "    </tr>\n",
       "    <tr>\n",
       "      <th>2017-01-01</th>\n",
       "      <td>55.30</td>\n",
       "    </tr>\n",
       "    <tr>\n",
       "      <th>2018-01-01</th>\n",
       "      <td>87.75</td>\n",
       "    </tr>\n",
       "    <tr>\n",
       "      <th>2019-01-01</th>\n",
       "      <td>91.45</td>\n",
       "    </tr>\n",
       "    <tr>\n",
       "      <th>2020-01-01</th>\n",
       "      <td>81.30</td>\n",
       "    </tr>\n",
       "  </tbody>\n",
       "</table>\n",
       "</div>"
      ],
      "text/plain": [
       "            earnings ($ million)\n",
       "Year                            \n",
       "1990-01-01                  8.80\n",
       "1991-01-01                 12.00\n",
       "1992-01-01                 11.05\n",
       "1993-01-01                 15.50\n",
       "1994-01-01                 13.50\n",
       "1995-01-01                 19.95\n",
       "1996-01-01                 16.00\n",
       "1997-01-01                 26.55\n",
       "1998-01-01                 22.85\n",
       "1999-01-01                 34.25\n",
       "2000-01-01                 25.25\n",
       "2002-01-01                 24.00\n",
       "2003-01-01                 29.00\n",
       "2004-01-01                 30.80\n",
       "2005-01-01                 33.20\n",
       "2006-01-01                 31.50\n",
       "2007-01-01                 34.50\n",
       "2008-01-01                 41.50\n",
       "2009-01-01                 41.00\n",
       "2010-01-01                 43.35\n",
       "2011-01-01                 43.25\n",
       "2012-01-01                 52.50\n",
       "2013-01-01                 50.00\n",
       "2014-01-01                 61.35\n",
       "2015-01-01                 65.90\n",
       "2016-01-01                 56.00\n",
       "2017-01-01                 55.30\n",
       "2018-01-01                 87.75\n",
       "2019-01-01                 91.45\n",
       "2020-01-01                 81.30"
      ]
     },
     "execution_count": 69,
     "metadata": {},
     "output_type": "execute_result"
    }
   ],
   "source": [
    "df_av"
   ]
  },
  {
   "cell_type": "code",
   "execution_count": 70,
   "metadata": {},
   "outputs": [],
   "source": [
    "df_av_copy = df_av.copy()"
   ]
  },
  {
   "cell_type": "code",
   "execution_count": 71,
   "metadata": {},
   "outputs": [],
   "source": [
    "df_av_copy.index = df_av_copy.index.year"
   ]
  },
  {
   "cell_type": "markdown",
   "metadata": {},
   "source": [
    "The median earnings for top athletes have clearly increased significantly. However, inflation should also be considered as a factor."
   ]
  },
  {
   "cell_type": "code",
   "execution_count": 72,
   "metadata": {},
   "outputs": [
    {
     "data": {
      "text/plain": [
       "<AxesSubplot:xlabel='Year'>"
      ]
     },
     "execution_count": 72,
     "metadata": {},
     "output_type": "execute_result"
    },
    {
     "data": {
      "image/png": "[encoded data removed]",
      "text/plain": [
       "<Figure size 720x720 with 1 Axes>"
      ]
     },
     "metadata": {
      "needs_background": "light"
     },
     "output_type": "display_data"
    }
   ],
   "source": [
    "df_av_copy.plot(kind='bar',fontsize=15,figsize=(10,10))"
   ]
  },
  {
   "cell_type": "markdown",
   "metadata": {},
   "source": [
    "I located data on inflation of the dollar for the past two centuries, and restricted the data to the years that are relevant to this exercise."
   ]
  },
  {
   "cell_type": "code",
   "execution_count": 73,
   "metadata": {},
   "outputs": [],
   "source": [
    "inflation = pd.read_csv('inflation_data.csv')"
   ]
  },
  {
   "cell_type": "code",
   "execution_count": 74,
   "metadata": {},
   "outputs": [
    {
     "data": {
      "text/html": [
       "<div>\n",
       "<style scoped>\n",
       "    .dataframe tbody tr th:only-of-type {\n",
       "        vertical-align: middle;\n",
       "    }\n",
       "\n",
       "    .dataframe tbody tr th {\n",
       "        vertical-align: top;\n",
       "    }\n",
       "\n",
       "    .dataframe thead th {\n",
       "        text-align: right;\n",
       "    }\n",
       "</style>\n",
       "<table border=\"1\" class=\"dataframe\">\n",
       "  <thead>\n",
       "    <tr style=\"text-align: right;\">\n",
       "      <th></th>\n",
       "      <th>year</th>\n",
       "      <th>amount</th>\n",
       "      <th>inflation rate</th>\n",
       "    </tr>\n",
       "  </thead>\n",
       "  <tbody>\n",
       "    <tr>\n",
       "      <th>0</th>\n",
       "      <td>1800</td>\n",
       "      <td>1.00</td>\n",
       "      <td>0.02</td>\n",
       "    </tr>\n",
       "    <tr>\n",
       "      <th>1</th>\n",
       "      <td>1801</td>\n",
       "      <td>1.01</td>\n",
       "      <td>0.01</td>\n",
       "    </tr>\n",
       "    <tr>\n",
       "      <th>2</th>\n",
       "      <td>1802</td>\n",
       "      <td>0.85</td>\n",
       "      <td>-0.16</td>\n",
       "    </tr>\n",
       "    <tr>\n",
       "      <th>3</th>\n",
       "      <td>1803</td>\n",
       "      <td>0.90</td>\n",
       "      <td>0.06</td>\n",
       "    </tr>\n",
       "    <tr>\n",
       "      <th>4</th>\n",
       "      <td>1804</td>\n",
       "      <td>0.94</td>\n",
       "      <td>0.04</td>\n",
       "    </tr>\n",
       "    <tr>\n",
       "      <th>...</th>\n",
       "      <td>...</td>\n",
       "      <td>...</td>\n",
       "      <td>...</td>\n",
       "    </tr>\n",
       "    <tr>\n",
       "      <th>218</th>\n",
       "      <td>2018</td>\n",
       "      <td>19.94</td>\n",
       "      <td>0.02</td>\n",
       "    </tr>\n",
       "    <tr>\n",
       "      <th>219</th>\n",
       "      <td>2019</td>\n",
       "      <td>20.29</td>\n",
       "      <td>0.02</td>\n",
       "    </tr>\n",
       "    <tr>\n",
       "      <th>220</th>\n",
       "      <td>2020</td>\n",
       "      <td>20.54</td>\n",
       "      <td>0.01</td>\n",
       "    </tr>\n",
       "    <tr>\n",
       "      <th>221</th>\n",
       "      <td>2021</td>\n",
       "      <td>21.51</td>\n",
       "      <td>0.05</td>\n",
       "    </tr>\n",
       "    <tr>\n",
       "      <th>222</th>\n",
       "      <td>2022</td>\n",
       "      <td>22.31</td>\n",
       "      <td>0.04</td>\n",
       "    </tr>\n",
       "  </tbody>\n",
       "</table>\n",
       "<p>223 rows × 3 columns</p>\n",
       "</div>"
      ],
      "text/plain": [
       "     year  amount  inflation rate\n",
       "0    1800    1.00            0.02\n",
       "1    1801    1.01            0.01\n",
       "2    1802    0.85           -0.16\n",
       "3    1803    0.90            0.06\n",
       "4    1804    0.94            0.04\n",
       "..    ...     ...             ...\n",
       "218  2018   19.94            0.02\n",
       "219  2019   20.29            0.02\n",
       "220  2020   20.54            0.01\n",
       "221  2021   21.51            0.05\n",
       "222  2022   22.31            0.04\n",
       "\n",
       "[223 rows x 3 columns]"
      ]
     },
     "execution_count": 74,
     "metadata": {},
     "output_type": "execute_result"
    }
   ],
   "source": [
    "inflation"
   ]
  },
  {
   "cell_type": "code",
   "execution_count": 75,
   "metadata": {},
   "outputs": [],
   "source": [
    "inflation = inflation[inflation.year >= 1990]"
   ]
  },
  {
   "cell_type": "markdown",
   "metadata": {},
   "source": [
    "Here, I divide all inflation amounts by 20.54, the inflation value for 2020, so that the 2020 dollar is normalized to 1."
   ]
  },
  {
   "cell_type": "code",
   "execution_count": 76,
   "metadata": {},
   "outputs": [
    {
     "name": "stderr",
     "output_type": "stream",
     "text": [
      "C:\\Users\\nickj\\anaconda3\\lib\\site-packages\\pandas\\core\\generic.py:5494: SettingWithCopyWarning: \n",
      "A value is trying to be set on a copy of a slice from a DataFrame.\n",
      "Try using .loc[row_indexer,col_indexer] = value instead\n",
      "\n",
      "See the caveats in the documentation: https://pandas.pydata.org/pandas-docs/stable/user_guide/indexing.html#returning-a-view-versus-a-copy\n",
      "  self[name] = value\n"
     ]
    }
   ],
   "source": [
    "inflation.amount = 20.54 / inflation.amount"
   ]
  },
  {
   "cell_type": "code",
   "execution_count": 77,
   "metadata": {},
   "outputs": [
    {
     "data": {
      "text/html": [
       "<div>\n",
       "<style scoped>\n",
       "    .dataframe tbody tr th:only-of-type {\n",
       "        vertical-align: middle;\n",
       "    }\n",
       "\n",
       "    .dataframe tbody tr th {\n",
       "        vertical-align: top;\n",
       "    }\n",
       "\n",
       "    .dataframe thead th {\n",
       "        text-align: right;\n",
       "    }\n",
       "</style>\n",
       "<table border=\"1\" class=\"dataframe\">\n",
       "  <thead>\n",
       "    <tr style=\"text-align: right;\">\n",
       "      <th></th>\n",
       "      <th>year</th>\n",
       "      <th>amount</th>\n",
       "      <th>inflation rate</th>\n",
       "    </tr>\n",
       "  </thead>\n",
       "  <tbody>\n",
       "    <tr>\n",
       "      <th>190</th>\n",
       "      <td>1990</td>\n",
       "      <td>1.980714</td>\n",
       "      <td>0.05</td>\n",
       "    </tr>\n",
       "    <tr>\n",
       "      <th>191</th>\n",
       "      <td>1991</td>\n",
       "      <td>1.900093</td>\n",
       "      <td>0.04</td>\n",
       "    </tr>\n",
       "    <tr>\n",
       "      <th>192</th>\n",
       "      <td>1992</td>\n",
       "      <td>1.845463</td>\n",
       "      <td>0.03</td>\n",
       "    </tr>\n",
       "    <tr>\n",
       "      <th>193</th>\n",
       "      <td>1993</td>\n",
       "      <td>1.790759</td>\n",
       "      <td>0.03</td>\n",
       "    </tr>\n",
       "    <tr>\n",
       "      <th>194</th>\n",
       "      <td>1994</td>\n",
       "      <td>1.746599</td>\n",
       "      <td>0.03</td>\n",
       "    </tr>\n",
       "    <tr>\n",
       "      <th>195</th>\n",
       "      <td>1995</td>\n",
       "      <td>1.697521</td>\n",
       "      <td>0.03</td>\n",
       "    </tr>\n",
       "    <tr>\n",
       "      <th>196</th>\n",
       "      <td>1996</td>\n",
       "      <td>1.649799</td>\n",
       "      <td>0.03</td>\n",
       "    </tr>\n",
       "    <tr>\n",
       "      <th>197</th>\n",
       "      <td>1997</td>\n",
       "      <td>1.612245</td>\n",
       "      <td>0.02</td>\n",
       "    </tr>\n",
       "    <tr>\n",
       "      <th>198</th>\n",
       "      <td>1998</td>\n",
       "      <td>1.587326</td>\n",
       "      <td>0.02</td>\n",
       "    </tr>\n",
       "    <tr>\n",
       "      <th>199</th>\n",
       "      <td>1999</td>\n",
       "      <td>1.553707</td>\n",
       "      <td>0.02</td>\n",
       "    </tr>\n",
       "    <tr>\n",
       "      <th>200</th>\n",
       "      <td>2000</td>\n",
       "      <td>1.502560</td>\n",
       "      <td>0.03</td>\n",
       "    </tr>\n",
       "    <tr>\n",
       "      <th>201</th>\n",
       "      <td>2001</td>\n",
       "      <td>1.460882</td>\n",
       "      <td>0.03</td>\n",
       "    </tr>\n",
       "    <tr>\n",
       "      <th>202</th>\n",
       "      <td>2002</td>\n",
       "      <td>1.438375</td>\n",
       "      <td>0.02</td>\n",
       "    </tr>\n",
       "    <tr>\n",
       "      <th>203</th>\n",
       "      <td>2003</td>\n",
       "      <td>1.406849</td>\n",
       "      <td>0.02</td>\n",
       "    </tr>\n",
       "    <tr>\n",
       "      <th>204</th>\n",
       "      <td>2004</td>\n",
       "      <td>1.370247</td>\n",
       "      <td>0.03</td>\n",
       "    </tr>\n",
       "    <tr>\n",
       "      <th>205</th>\n",
       "      <td>2005</td>\n",
       "      <td>1.325161</td>\n",
       "      <td>0.03</td>\n",
       "    </tr>\n",
       "    <tr>\n",
       "      <th>206</th>\n",
       "      <td>2006</td>\n",
       "      <td>1.283750</td>\n",
       "      <td>0.03</td>\n",
       "    </tr>\n",
       "    <tr>\n",
       "      <th>207</th>\n",
       "      <td>2007</td>\n",
       "      <td>1.247874</td>\n",
       "      <td>0.03</td>\n",
       "    </tr>\n",
       "    <tr>\n",
       "      <th>208</th>\n",
       "      <td>2008</td>\n",
       "      <td>1.201872</td>\n",
       "      <td>0.04</td>\n",
       "    </tr>\n",
       "    <tr>\n",
       "      <th>209</th>\n",
       "      <td>2009</td>\n",
       "      <td>1.206107</td>\n",
       "      <td>-0.00</td>\n",
       "    </tr>\n",
       "    <tr>\n",
       "      <th>210</th>\n",
       "      <td>2010</td>\n",
       "      <td>1.186597</td>\n",
       "      <td>0.02</td>\n",
       "    </tr>\n",
       "    <tr>\n",
       "      <th>211</th>\n",
       "      <td>2011</td>\n",
       "      <td>1.150700</td>\n",
       "      <td>0.03</td>\n",
       "    </tr>\n",
       "    <tr>\n",
       "      <th>212</th>\n",
       "      <td>2012</td>\n",
       "      <td>1.127333</td>\n",
       "      <td>0.02</td>\n",
       "    </tr>\n",
       "    <tr>\n",
       "      <th>213</th>\n",
       "      <td>2013</td>\n",
       "      <td>1.110871</td>\n",
       "      <td>0.01</td>\n",
       "    </tr>\n",
       "    <tr>\n",
       "      <th>214</th>\n",
       "      <td>2014</td>\n",
       "      <td>1.093135</td>\n",
       "      <td>0.02</td>\n",
       "    </tr>\n",
       "    <tr>\n",
       "      <th>215</th>\n",
       "      <td>2015</td>\n",
       "      <td>1.091972</td>\n",
       "      <td>0.00</td>\n",
       "    </tr>\n",
       "    <tr>\n",
       "      <th>216</th>\n",
       "      <td>2016</td>\n",
       "      <td>1.078215</td>\n",
       "      <td>0.01</td>\n",
       "    </tr>\n",
       "    <tr>\n",
       "      <th>217</th>\n",
       "      <td>2017</td>\n",
       "      <td>1.056041</td>\n",
       "      <td>0.02</td>\n",
       "    </tr>\n",
       "    <tr>\n",
       "      <th>218</th>\n",
       "      <td>2018</td>\n",
       "      <td>1.030090</td>\n",
       "      <td>0.02</td>\n",
       "    </tr>\n",
       "    <tr>\n",
       "      <th>219</th>\n",
       "      <td>2019</td>\n",
       "      <td>1.012321</td>\n",
       "      <td>0.02</td>\n",
       "    </tr>\n",
       "    <tr>\n",
       "      <th>220</th>\n",
       "      <td>2020</td>\n",
       "      <td>1.000000</td>\n",
       "      <td>0.01</td>\n",
       "    </tr>\n",
       "    <tr>\n",
       "      <th>221</th>\n",
       "      <td>2021</td>\n",
       "      <td>0.954905</td>\n",
       "      <td>0.05</td>\n",
       "    </tr>\n",
       "    <tr>\n",
       "      <th>222</th>\n",
       "      <td>2022</td>\n",
       "      <td>0.920663</td>\n",
       "      <td>0.04</td>\n",
       "    </tr>\n",
       "  </tbody>\n",
       "</table>\n",
       "</div>"
      ],
      "text/plain": [
       "     year    amount  inflation rate\n",
       "190  1990  1.980714            0.05\n",
       "191  1991  1.900093            0.04\n",
       "192  1992  1.845463            0.03\n",
       "193  1993  1.790759            0.03\n",
       "194  1994  1.746599            0.03\n",
       "195  1995  1.697521            0.03\n",
       "196  1996  1.649799            0.03\n",
       "197  1997  1.612245            0.02\n",
       "198  1998  1.587326            0.02\n",
       "199  1999  1.553707            0.02\n",
       "200  2000  1.502560            0.03\n",
       "201  2001  1.460882            0.03\n",
       "202  2002  1.438375            0.02\n",
       "203  2003  1.406849            0.02\n",
       "204  2004  1.370247            0.03\n",
       "205  2005  1.325161            0.03\n",
       "206  2006  1.283750            0.03\n",
       "207  2007  1.247874            0.03\n",
       "208  2008  1.201872            0.04\n",
       "209  2009  1.206107           -0.00\n",
       "210  2010  1.186597            0.02\n",
       "211  2011  1.150700            0.03\n",
       "212  2012  1.127333            0.02\n",
       "213  2013  1.110871            0.01\n",
       "214  2014  1.093135            0.02\n",
       "215  2015  1.091972            0.00\n",
       "216  2016  1.078215            0.01\n",
       "217  2017  1.056041            0.02\n",
       "218  2018  1.030090            0.02\n",
       "219  2019  1.012321            0.02\n",
       "220  2020  1.000000            0.01\n",
       "221  2021  0.954905            0.05\n",
       "222  2022  0.920663            0.04"
      ]
     },
     "execution_count": 77,
     "metadata": {},
     "output_type": "execute_result"
    }
   ],
   "source": [
    "inflation"
   ]
  },
  {
   "cell_type": "markdown",
   "metadata": {},
   "source": [
    "I then merge the inflation data with the athlete salary data."
   ]
  },
  {
   "cell_type": "code",
   "execution_count": 78,
   "metadata": {},
   "outputs": [
    {
     "name": "stderr",
     "output_type": "stream",
     "text": [
      "<ipython-input-78-41cdb229c302>:1: SettingWithCopyWarning: \n",
      "A value is trying to be set on a copy of a slice from a DataFrame.\n",
      "Try using .loc[row_indexer,col_indexer] = value instead\n",
      "\n",
      "See the caveats in the documentation: https://pandas.pydata.org/pandas-docs/stable/user_guide/indexing.html#returning-a-view-versus-a-copy\n",
      "  inflation['year'] = pd.to_datetime(inflation['year'],format='%Y')\n"
     ]
    }
   ],
   "source": [
    "inflation['year'] = pd.to_datetime(inflation['year'],format='%Y')"
   ]
  },
  {
   "cell_type": "code",
   "execution_count": 79,
   "metadata": {},
   "outputs": [],
   "source": [
    "df_merged = df_av.merge(inflation,how='inner',left_on='Year',right_on='year')"
   ]
  },
  {
   "cell_type": "code",
   "execution_count": 80,
   "metadata": {},
   "outputs": [
    {
     "data": {
      "text/html": [
       "<div>\n",
       "<style scoped>\n",
       "    .dataframe tbody tr th:only-of-type {\n",
       "        vertical-align: middle;\n",
       "    }\n",
       "\n",
       "    .dataframe tbody tr th {\n",
       "        vertical-align: top;\n",
       "    }\n",
       "\n",
       "    .dataframe thead th {\n",
       "        text-align: right;\n",
       "    }\n",
       "</style>\n",
       "<table border=\"1\" class=\"dataframe\">\n",
       "  <thead>\n",
       "    <tr style=\"text-align: right;\">\n",
       "      <th></th>\n",
       "      <th>earnings ($ million)</th>\n",
       "      <th>year</th>\n",
       "      <th>amount</th>\n",
       "      <th>inflation rate</th>\n",
       "    </tr>\n",
       "  </thead>\n",
       "  <tbody>\n",
       "    <tr>\n",
       "      <th>0</th>\n",
       "      <td>8.80</td>\n",
       "      <td>1990-01-01</td>\n",
       "      <td>1.980714</td>\n",
       "      <td>0.05</td>\n",
       "    </tr>\n",
       "    <tr>\n",
       "      <th>1</th>\n",
       "      <td>12.00</td>\n",
       "      <td>1991-01-01</td>\n",
       "      <td>1.900093</td>\n",
       "      <td>0.04</td>\n",
       "    </tr>\n",
       "    <tr>\n",
       "      <th>2</th>\n",
       "      <td>11.05</td>\n",
       "      <td>1992-01-01</td>\n",
       "      <td>1.845463</td>\n",
       "      <td>0.03</td>\n",
       "    </tr>\n",
       "    <tr>\n",
       "      <th>3</th>\n",
       "      <td>15.50</td>\n",
       "      <td>1993-01-01</td>\n",
       "      <td>1.790759</td>\n",
       "      <td>0.03</td>\n",
       "    </tr>\n",
       "    <tr>\n",
       "      <th>4</th>\n",
       "      <td>13.50</td>\n",
       "      <td>1994-01-01</td>\n",
       "      <td>1.746599</td>\n",
       "      <td>0.03</td>\n",
       "    </tr>\n",
       "    <tr>\n",
       "      <th>5</th>\n",
       "      <td>19.95</td>\n",
       "      <td>1995-01-01</td>\n",
       "      <td>1.697521</td>\n",
       "      <td>0.03</td>\n",
       "    </tr>\n",
       "    <tr>\n",
       "      <th>6</th>\n",
       "      <td>16.00</td>\n",
       "      <td>1996-01-01</td>\n",
       "      <td>1.649799</td>\n",
       "      <td>0.03</td>\n",
       "    </tr>\n",
       "    <tr>\n",
       "      <th>7</th>\n",
       "      <td>26.55</td>\n",
       "      <td>1997-01-01</td>\n",
       "      <td>1.612245</td>\n",
       "      <td>0.02</td>\n",
       "    </tr>\n",
       "    <tr>\n",
       "      <th>8</th>\n",
       "      <td>22.85</td>\n",
       "      <td>1998-01-01</td>\n",
       "      <td>1.587326</td>\n",
       "      <td>0.02</td>\n",
       "    </tr>\n",
       "    <tr>\n",
       "      <th>9</th>\n",
       "      <td>34.25</td>\n",
       "      <td>1999-01-01</td>\n",
       "      <td>1.553707</td>\n",
       "      <td>0.02</td>\n",
       "    </tr>\n",
       "    <tr>\n",
       "      <th>10</th>\n",
       "      <td>25.25</td>\n",
       "      <td>2000-01-01</td>\n",
       "      <td>1.502560</td>\n",
       "      <td>0.03</td>\n",
       "    </tr>\n",
       "    <tr>\n",
       "      <th>11</th>\n",
       "      <td>24.00</td>\n",
       "      <td>2002-01-01</td>\n",
       "      <td>1.438375</td>\n",
       "      <td>0.02</td>\n",
       "    </tr>\n",
       "    <tr>\n",
       "      <th>12</th>\n",
       "      <td>29.00</td>\n",
       "      <td>2003-01-01</td>\n",
       "      <td>1.406849</td>\n",
       "      <td>0.02</td>\n",
       "    </tr>\n",
       "    <tr>\n",
       "      <th>13</th>\n",
       "      <td>30.80</td>\n",
       "      <td>2004-01-01</td>\n",
       "      <td>1.370247</td>\n",
       "      <td>0.03</td>\n",
       "    </tr>\n",
       "    <tr>\n",
       "      <th>14</th>\n",
       "      <td>33.20</td>\n",
       "      <td>2005-01-01</td>\n",
       "      <td>1.325161</td>\n",
       "      <td>0.03</td>\n",
       "    </tr>\n",
       "    <tr>\n",
       "      <th>15</th>\n",
       "      <td>31.50</td>\n",
       "      <td>2006-01-01</td>\n",
       "      <td>1.283750</td>\n",
       "      <td>0.03</td>\n",
       "    </tr>\n",
       "    <tr>\n",
       "      <th>16</th>\n",
       "      <td>34.50</td>\n",
       "      <td>2007-01-01</td>\n",
       "      <td>1.247874</td>\n",
       "      <td>0.03</td>\n",
       "    </tr>\n",
       "    <tr>\n",
       "      <th>17</th>\n",
       "      <td>41.50</td>\n",
       "      <td>2008-01-01</td>\n",
       "      <td>1.201872</td>\n",
       "      <td>0.04</td>\n",
       "    </tr>\n",
       "    <tr>\n",
       "      <th>18</th>\n",
       "      <td>41.00</td>\n",
       "      <td>2009-01-01</td>\n",
       "      <td>1.206107</td>\n",
       "      <td>-0.00</td>\n",
       "    </tr>\n",
       "    <tr>\n",
       "      <th>19</th>\n",
       "      <td>43.35</td>\n",
       "      <td>2010-01-01</td>\n",
       "      <td>1.186597</td>\n",
       "      <td>0.02</td>\n",
       "    </tr>\n",
       "    <tr>\n",
       "      <th>20</th>\n",
       "      <td>43.25</td>\n",
       "      <td>2011-01-01</td>\n",
       "      <td>1.150700</td>\n",
       "      <td>0.03</td>\n",
       "    </tr>\n",
       "    <tr>\n",
       "      <th>21</th>\n",
       "      <td>52.50</td>\n",
       "      <td>2012-01-01</td>\n",
       "      <td>1.127333</td>\n",
       "      <td>0.02</td>\n",
       "    </tr>\n",
       "    <tr>\n",
       "      <th>22</th>\n",
       "      <td>50.00</td>\n",
       "      <td>2013-01-01</td>\n",
       "      <td>1.110871</td>\n",
       "      <td>0.01</td>\n",
       "    </tr>\n",
       "    <tr>\n",
       "      <th>23</th>\n",
       "      <td>61.35</td>\n",
       "      <td>2014-01-01</td>\n",
       "      <td>1.093135</td>\n",
       "      <td>0.02</td>\n",
       "    </tr>\n",
       "    <tr>\n",
       "      <th>24</th>\n",
       "      <td>65.90</td>\n",
       "      <td>2015-01-01</td>\n",
       "      <td>1.091972</td>\n",
       "      <td>0.00</td>\n",
       "    </tr>\n",
       "    <tr>\n",
       "      <th>25</th>\n",
       "      <td>56.00</td>\n",
       "      <td>2016-01-01</td>\n",
       "      <td>1.078215</td>\n",
       "      <td>0.01</td>\n",
       "    </tr>\n",
       "    <tr>\n",
       "      <th>26</th>\n",
       "      <td>55.30</td>\n",
       "      <td>2017-01-01</td>\n",
       "      <td>1.056041</td>\n",
       "      <td>0.02</td>\n",
       "    </tr>\n",
       "    <tr>\n",
       "      <th>27</th>\n",
       "      <td>87.75</td>\n",
       "      <td>2018-01-01</td>\n",
       "      <td>1.030090</td>\n",
       "      <td>0.02</td>\n",
       "    </tr>\n",
       "    <tr>\n",
       "      <th>28</th>\n",
       "      <td>91.45</td>\n",
       "      <td>2019-01-01</td>\n",
       "      <td>1.012321</td>\n",
       "      <td>0.02</td>\n",
       "    </tr>\n",
       "    <tr>\n",
       "      <th>29</th>\n",
       "      <td>81.30</td>\n",
       "      <td>2020-01-01</td>\n",
       "      <td>1.000000</td>\n",
       "      <td>0.01</td>\n",
       "    </tr>\n",
       "  </tbody>\n",
       "</table>\n",
       "</div>"
      ],
      "text/plain": [
       "    earnings ($ million)       year    amount  inflation rate\n",
       "0                   8.80 1990-01-01  1.980714            0.05\n",
       "1                  12.00 1991-01-01  1.900093            0.04\n",
       "2                  11.05 1992-01-01  1.845463            0.03\n",
       "3                  15.50 1993-01-01  1.790759            0.03\n",
       "4                  13.50 1994-01-01  1.746599            0.03\n",
       "5                  19.95 1995-01-01  1.697521            0.03\n",
       "6                  16.00 1996-01-01  1.649799            0.03\n",
       "7                  26.55 1997-01-01  1.612245            0.02\n",
       "8                  22.85 1998-01-01  1.587326            0.02\n",
       "9                  34.25 1999-01-01  1.553707            0.02\n",
       "10                 25.25 2000-01-01  1.502560            0.03\n",
       "11                 24.00 2002-01-01  1.438375            0.02\n",
       "12                 29.00 2003-01-01  1.406849            0.02\n",
       "13                 30.80 2004-01-01  1.370247            0.03\n",
       "14                 33.20 2005-01-01  1.325161            0.03\n",
       "15                 31.50 2006-01-01  1.283750            0.03\n",
       "16                 34.50 2007-01-01  1.247874            0.03\n",
       "17                 41.50 2008-01-01  1.201872            0.04\n",
       "18                 41.00 2009-01-01  1.206107           -0.00\n",
       "19                 43.35 2010-01-01  1.186597            0.02\n",
       "20                 43.25 2011-01-01  1.150700            0.03\n",
       "21                 52.50 2012-01-01  1.127333            0.02\n",
       "22                 50.00 2013-01-01  1.110871            0.01\n",
       "23                 61.35 2014-01-01  1.093135            0.02\n",
       "24                 65.90 2015-01-01  1.091972            0.00\n",
       "25                 56.00 2016-01-01  1.078215            0.01\n",
       "26                 55.30 2017-01-01  1.056041            0.02\n",
       "27                 87.75 2018-01-01  1.030090            0.02\n",
       "28                 91.45 2019-01-01  1.012321            0.02\n",
       "29                 81.30 2020-01-01  1.000000            0.01"
      ]
     },
     "execution_count": 80,
     "metadata": {},
     "output_type": "execute_result"
    }
   ],
   "source": [
    "df_merged"
   ]
  },
  {
   "cell_type": "markdown",
   "metadata": {},
   "source": [
    "I adjust the salary data based on the inflation amount, and plot the new findings."
   ]
  },
  {
   "cell_type": "code",
   "execution_count": 81,
   "metadata": {},
   "outputs": [],
   "source": [
    "df_merged['earnings'] = df_merged['earnings ($ million)']*df_merged['amount']"
   ]
  },
  {
   "cell_type": "code",
   "execution_count": 82,
   "metadata": {},
   "outputs": [],
   "source": [
    "df_merged = df_merged[['year','earnings']]"
   ]
  },
  {
   "cell_type": "code",
   "execution_count": 83,
   "metadata": {},
   "outputs": [],
   "source": [
    "df_merged = df_merged.set_index('year')"
   ]
  },
  {
   "cell_type": "code",
   "execution_count": 84,
   "metadata": {},
   "outputs": [],
   "source": [
    "df_merged.index = df_merged.index.year"
   ]
  },
  {
   "cell_type": "markdown",
   "metadata": {},
   "source": [
    "The increase in median salary is certainly less sharp now than in the previous plot, but it's still evident from the graph that salaries (accounting for inflation) have still increased."
   ]
  },
  {
   "cell_type": "code",
   "execution_count": 86,
   "metadata": {},
   "outputs": [
    {
     "data": {
      "text/plain": [
       "<AxesSubplot:xlabel='year'>"
      ]
     },
     "execution_count": 86,
     "metadata": {},
     "output_type": "execute_result"
    },
    {
     "data": {
      "image/png": "[encoded data removed]",
      "text/plain": [
       "<Figure size 720x720 with 1 Axes>"
      ]
     },
     "metadata": {
      "needs_background": "light"
     },
     "output_type": "display_data"
    }
   ],
   "source": [
    "df_merged.plot(kind='bar',fontsize=15,figsize=(10,10))"
   ]
  },
  {
   "cell_type": "markdown",
   "metadata": {},
   "source": [
    "Still, a better method of evaluating salary increases would take all the data into account at once, which we can do with a boxplot."
   ]
  },
  {
   "cell_type": "markdown",
   "metadata": {},
   "source": [
    "I create a new Dataframe that includes all the points in the original Dataframe adjusted for inflation, and visualize it via a boxplot."
   ]
  },
  {
   "cell_type": "code",
   "execution_count": 87,
   "metadata": {},
   "outputs": [],
   "source": [
    "df_inflation = df.merge(inflation,how='left',left_on='Year',right_on='year')"
   ]
  },
  {
   "cell_type": "code",
   "execution_count": 88,
   "metadata": {},
   "outputs": [
    {
     "data": {
      "text/html": [
       "<div>\n",
       "<style scoped>\n",
       "    .dataframe tbody tr th:only-of-type {\n",
       "        vertical-align: middle;\n",
       "    }\n",
       "\n",
       "    .dataframe tbody tr th {\n",
       "        vertical-align: top;\n",
       "    }\n",
       "\n",
       "    .dataframe thead th {\n",
       "        text-align: right;\n",
       "    }\n",
       "</style>\n",
       "<table border=\"1\" class=\"dataframe\">\n",
       "  <thead>\n",
       "    <tr style=\"text-align: right;\">\n",
       "      <th></th>\n",
       "      <th>Name</th>\n",
       "      <th>Nationality</th>\n",
       "      <th>Current Rank</th>\n",
       "      <th>Previous Year Rank</th>\n",
       "      <th>Sport</th>\n",
       "      <th>Year</th>\n",
       "      <th>earnings ($ million)</th>\n",
       "      <th>year</th>\n",
       "      <th>amount</th>\n",
       "      <th>inflation rate</th>\n",
       "    </tr>\n",
       "  </thead>\n",
       "  <tbody>\n",
       "    <tr>\n",
       "      <th>0</th>\n",
       "      <td>Mike Tyson</td>\n",
       "      <td>USA</td>\n",
       "      <td>1</td>\n",
       "      <td>NaN</td>\n",
       "      <td>Boxing</td>\n",
       "      <td>1990-01-01</td>\n",
       "      <td>28.6</td>\n",
       "      <td>1990-01-01</td>\n",
       "      <td>1.980714</td>\n",
       "      <td>0.05</td>\n",
       "    </tr>\n",
       "    <tr>\n",
       "      <th>1</th>\n",
       "      <td>Buster Douglas</td>\n",
       "      <td>USA</td>\n",
       "      <td>2</td>\n",
       "      <td>NaN</td>\n",
       "      <td>Boxing</td>\n",
       "      <td>1990-01-01</td>\n",
       "      <td>26.0</td>\n",
       "      <td>1990-01-01</td>\n",
       "      <td>1.980714</td>\n",
       "      <td>0.05</td>\n",
       "    </tr>\n",
       "    <tr>\n",
       "      <th>2</th>\n",
       "      <td>Sugar Ray Leonard</td>\n",
       "      <td>USA</td>\n",
       "      <td>3</td>\n",
       "      <td>NaN</td>\n",
       "      <td>Boxing</td>\n",
       "      <td>1990-01-01</td>\n",
       "      <td>13.0</td>\n",
       "      <td>1990-01-01</td>\n",
       "      <td>1.980714</td>\n",
       "      <td>0.05</td>\n",
       "    </tr>\n",
       "    <tr>\n",
       "      <th>3</th>\n",
       "      <td>Ayrton Senna</td>\n",
       "      <td>Brazil</td>\n",
       "      <td>4</td>\n",
       "      <td>NaN</td>\n",
       "      <td>Auto Racing</td>\n",
       "      <td>1990-01-01</td>\n",
       "      <td>10.0</td>\n",
       "      <td>1990-01-01</td>\n",
       "      <td>1.980714</td>\n",
       "      <td>0.05</td>\n",
       "    </tr>\n",
       "    <tr>\n",
       "      <th>4</th>\n",
       "      <td>Alain Prost</td>\n",
       "      <td>France</td>\n",
       "      <td>5</td>\n",
       "      <td>NaN</td>\n",
       "      <td>Auto Racing</td>\n",
       "      <td>1990-01-01</td>\n",
       "      <td>9.0</td>\n",
       "      <td>1990-01-01</td>\n",
       "      <td>1.980714</td>\n",
       "      <td>0.05</td>\n",
       "    </tr>\n",
       "    <tr>\n",
       "      <th>...</th>\n",
       "      <td>...</td>\n",
       "      <td>...</td>\n",
       "      <td>...</td>\n",
       "      <td>...</td>\n",
       "      <td>...</td>\n",
       "      <td>...</td>\n",
       "      <td>...</td>\n",
       "      <td>...</td>\n",
       "      <td>...</td>\n",
       "      <td>...</td>\n",
       "    </tr>\n",
       "    <tr>\n",
       "      <th>296</th>\n",
       "      <td>Stephen Curry</td>\n",
       "      <td>USA</td>\n",
       "      <td>6</td>\n",
       "      <td>9</td>\n",
       "      <td>Basketball</td>\n",
       "      <td>2020-01-01</td>\n",
       "      <td>74.4</td>\n",
       "      <td>2020-01-01</td>\n",
       "      <td>1.000000</td>\n",
       "      <td>0.01</td>\n",
       "    </tr>\n",
       "    <tr>\n",
       "      <th>297</th>\n",
       "      <td>Kevin Durant</td>\n",
       "      <td>USA</td>\n",
       "      <td>7</td>\n",
       "      <td>10</td>\n",
       "      <td>Basketball</td>\n",
       "      <td>2020-01-01</td>\n",
       "      <td>63.9</td>\n",
       "      <td>2020-01-01</td>\n",
       "      <td>1.000000</td>\n",
       "      <td>0.01</td>\n",
       "    </tr>\n",
       "    <tr>\n",
       "      <th>298</th>\n",
       "      <td>Tiger Woods</td>\n",
       "      <td>USA</td>\n",
       "      <td>8</td>\n",
       "      <td>11</td>\n",
       "      <td>Golf</td>\n",
       "      <td>2020-01-01</td>\n",
       "      <td>62.3</td>\n",
       "      <td>2020-01-01</td>\n",
       "      <td>1.000000</td>\n",
       "      <td>0.01</td>\n",
       "    </tr>\n",
       "    <tr>\n",
       "      <th>299</th>\n",
       "      <td>Kirk Cousins</td>\n",
       "      <td>USA</td>\n",
       "      <td>9</td>\n",
       "      <td>&gt;100</td>\n",
       "      <td>American Football</td>\n",
       "      <td>2020-01-01</td>\n",
       "      <td>60.5</td>\n",
       "      <td>2020-01-01</td>\n",
       "      <td>1.000000</td>\n",
       "      <td>0.01</td>\n",
       "    </tr>\n",
       "    <tr>\n",
       "      <th>300</th>\n",
       "      <td>Carson Wentz</td>\n",
       "      <td>USA</td>\n",
       "      <td>10</td>\n",
       "      <td>&gt;100</td>\n",
       "      <td>American Football</td>\n",
       "      <td>2020-01-01</td>\n",
       "      <td>59.1</td>\n",
       "      <td>2020-01-01</td>\n",
       "      <td>1.000000</td>\n",
       "      <td>0.01</td>\n",
       "    </tr>\n",
       "  </tbody>\n",
       "</table>\n",
       "<p>301 rows × 10 columns</p>\n",
       "</div>"
      ],
      "text/plain": [
       "                  Name Nationality  Current Rank Previous Year Rank  \\\n",
       "0           Mike Tyson         USA             1                NaN   \n",
       "1       Buster Douglas         USA             2                NaN   \n",
       "2    Sugar Ray Leonard         USA             3                NaN   \n",
       "3         Ayrton Senna      Brazil             4                NaN   \n",
       "4          Alain Prost      France             5                NaN   \n",
       "..                 ...         ...           ...                ...   \n",
       "296      Stephen Curry         USA             6                  9   \n",
       "297       Kevin Durant         USA             7                 10   \n",
       "298        Tiger Woods         USA             8                 11   \n",
       "299       Kirk Cousins         USA             9               >100   \n",
       "300       Carson Wentz         USA            10               >100   \n",
       "\n",
       "                 Sport       Year  earnings ($ million)       year    amount  \\\n",
       "0               Boxing 1990-01-01                  28.6 1990-01-01  1.980714   \n",
       "1               Boxing 1990-01-01                  26.0 1990-01-01  1.980714   \n",
       "2               Boxing 1990-01-01                  13.0 1990-01-01  1.980714   \n",
       "3          Auto Racing 1990-01-01                  10.0 1990-01-01  1.980714   \n",
       "4          Auto Racing 1990-01-01                   9.0 1990-01-01  1.980714   \n",
       "..                 ...        ...                   ...        ...       ...   \n",
       "296         Basketball 2020-01-01                  74.4 2020-01-01  1.000000   \n",
       "297         Basketball 2020-01-01                  63.9 2020-01-01  1.000000   \n",
       "298               Golf 2020-01-01                  62.3 2020-01-01  1.000000   \n",
       "299  American Football 2020-01-01                  60.5 2020-01-01  1.000000   \n",
       "300  American Football 2020-01-01                  59.1 2020-01-01  1.000000   \n",
       "\n",
       "     inflation rate  \n",
       "0              0.05  \n",
       "1              0.05  \n",
       "2              0.05  \n",
       "3              0.05  \n",
       "4              0.05  \n",
       "..              ...  \n",
       "296            0.01  \n",
       "297            0.01  \n",
       "298            0.01  \n",
       "299            0.01  \n",
       "300            0.01  \n",
       "\n",
       "[301 rows x 10 columns]"
      ]
     },
     "execution_count": 88,
     "metadata": {},
     "output_type": "execute_result"
    }
   ],
   "source": [
    "df_inflation"
   ]
  },
  {
   "cell_type": "code",
   "execution_count": 89,
   "metadata": {},
   "outputs": [],
   "source": [
    "df_inflation['earnings'] = df_inflation['earnings ($ million)']*df_inflation['amount']"
   ]
  },
  {
   "cell_type": "code",
   "execution_count": 90,
   "metadata": {},
   "outputs": [],
   "source": [
    "df_inflation = df_inflation[['year','earnings']]"
   ]
  },
  {
   "cell_type": "code",
   "execution_count": 97,
   "metadata": {},
   "outputs": [
    {
     "name": "stderr",
     "output_type": "stream",
     "text": [
      "C:\\Users\\nickj\\anaconda3\\lib\\site-packages\\pandas\\core\\generic.py:5494: SettingWithCopyWarning: \n",
      "A value is trying to be set on a copy of a slice from a DataFrame.\n",
      "Try using .loc[row_indexer,col_indexer] = value instead\n",
      "\n",
      "See the caveats in the documentation: https://pandas.pydata.org/pandas-docs/stable/user_guide/indexing.html#returning-a-view-versus-a-copy\n",
      "  self[name] = value\n"
     ]
    }
   ],
   "source": [
    "df_inflation.year = df_inflation.year.dt.year"
   ]
  },
  {
   "cell_type": "code",
   "execution_count": 98,
   "metadata": {},
   "outputs": [
    {
     "data": {
      "text/plain": [
       "[Text(0, 0, '1990'),\n",
       " Text(1, 0, '1991'),\n",
       " Text(2, 0, '1992'),\n",
       " Text(3, 0, '1993'),\n",
       " Text(4, 0, '1994'),\n",
       " Text(5, 0, '1995'),\n",
       " Text(6, 0, '1996'),\n",
       " Text(7, 0, '1997'),\n",
       " Text(8, 0, '1998'),\n",
       " Text(9, 0, '1999'),\n",
       " Text(10, 0, '2000'),\n",
       " Text(11, 0, '2002'),\n",
       " Text(12, 0, '2003'),\n",
       " Text(13, 0, '2004'),\n",
       " Text(14, 0, '2005'),\n",
       " Text(15, 0, '2006'),\n",
       " Text(16, 0, '2007'),\n",
       " Text(17, 0, '2008'),\n",
       " Text(18, 0, '2009'),\n",
       " Text(19, 0, '2010'),\n",
       " Text(20, 0, '2011'),\n",
       " Text(21, 0, '2012'),\n",
       " Text(22, 0, '2013'),\n",
       " Text(23, 0, '2014'),\n",
       " Text(24, 0, '2015'),\n",
       " Text(25, 0, '2016'),\n",
       " Text(26, 0, '2017'),\n",
       " Text(27, 0, '2018'),\n",
       " Text(28, 0, '2019'),\n",
       " Text(29, 0, '2020')]"
      ]
     },
     "execution_count": 98,
     "metadata": {},
     "output_type": "execute_result"
    },
    {
     "data": {
      "image/png": "[encoded data removed]",
      "text/plain": [
       "<Figure size 720x720 with 1 Axes>"
      ]
     },
     "metadata": {},
     "output_type": "display_data"
    }
   ],
   "source": [
    "bx = sns.boxplot(x='year',y='earnings',data=df_inflation)\n",
    "sns.set(rc = {'figure.figsize':(10,10)})\n",
    "bx.set_xticklabels(bx.get_xticklabels(),rotation = 90)"
   ]
  },
  {
   "cell_type": "markdown",
   "metadata": {},
   "source": [
    "This plot is much more revealing of the entirety of the salary data. It is clear that there is a distinct upward trend over the years, even taking inflation into account. However, the trend is not perhaps as pronounced as before, as many of the interquartile ranges overlap, indicating that a large part of the shift could be attributed to natural variation. In addition, we see that there are a lot of outliers in this data, indicating that it may not be suitable for establishing a reliable upward trend."
   ]
  },
  {
   "cell_type": "code",
   "execution_count": null,
   "metadata": {},
   "outputs": [],
   "source": []
  }
 ],
 "metadata": {
  "kernelspec": {
   "display_name": "Python 3",
   "language": "python",
   "name": "python3"
  },
  "language_info": {
   "codemirror_mode": {
    "name": "ipython",
    "version": 3
   },
   "file_extension": ".py",
   "mimetype": "text/x-python",
   "name": "python",
   "nbconvert_exporter": "python",
   "pygments_lexer": "ipython3",
   "version": "3.8.3"
  }
 },
 "nbformat": 4,
 "nbformat_minor": 4
}
